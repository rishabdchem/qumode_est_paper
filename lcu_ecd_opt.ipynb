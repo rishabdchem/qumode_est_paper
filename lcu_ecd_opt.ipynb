{
  "cells": [
    {
      "cell_type": "markdown",
      "metadata": {
        "id": "GTuUo9-GBwrx"
      },
      "source": [
        "# Linear combination of ECD-rotation circuits"
      ]
    },
    {
      "cell_type": "markdown",
      "source": [
        "A fairly comprehensive use of optimizers based on `NumPy` objects to present qubit-qumode circuit(s) for a given qumode operator."
      ],
      "metadata": {
        "id": "pkutZEHfHDm7"
      }
    },
    {
      "cell_type": "markdown",
      "metadata": {
        "id": "J0tBc-IKGzVS"
      },
      "source": [
        "## Prerequisite"
      ]
    },
    {
      "cell_type": "markdown",
      "metadata": {
        "id": "v6PZ-ceICzov"
      },
      "source": [
        "Installation cells for Google Colab users."
      ]
    },
    {
      "cell_type": "code",
      "execution_count": 1,
      "metadata": {
        "colab": {
          "base_uri": "https://localhost:8080/"
        },
        "id": "WkHT4A_rYRr8",
        "outputId": "ac6110a0-594b-42fe-9ef7-baf8ff39c863"
      },
      "outputs": [
        {
          "output_type": "stream",
          "name": "stdout",
          "text": [
            "Collecting qutip\n",
            "  Downloading qutip-5.1.0-cp310-cp310-manylinux_2_17_x86_64.manylinux2014_x86_64.whl.metadata (9.2 kB)\n",
            "Requirement already satisfied: numpy>=1.22 in /usr/local/lib/python3.10/dist-packages (from qutip) (1.26.4)\n",
            "Requirement already satisfied: scipy>=1.9 in /usr/local/lib/python3.10/dist-packages (from qutip) (1.13.1)\n",
            "Requirement already satisfied: packaging in /usr/local/lib/python3.10/dist-packages (from qutip) (24.2)\n",
            "Downloading qutip-5.1.0-cp310-cp310-manylinux_2_17_x86_64.manylinux2014_x86_64.whl (28.4 MB)\n",
            "\u001b[2K   \u001b[90m━━━━━━━━━━━━━━━━━━━━━━━━━━━━━━━━━━━━━━━━\u001b[0m \u001b[32m28.4/28.4 MB\u001b[0m \u001b[31m89.8 MB/s\u001b[0m eta \u001b[36m0:00:00\u001b[0m\n",
            "\u001b[?25hInstalling collected packages: qutip\n",
            "Successfully installed qutip-5.1.0\n",
            "Requirement already satisfied: scipy in /usr/local/lib/python3.10/dist-packages (1.13.1)\n",
            "Requirement already satisfied: numpy<2.3,>=1.22.4 in /usr/local/lib/python3.10/dist-packages (from scipy) (1.26.4)\n",
            "Collecting scikit-quant\n",
            "  Downloading scikit-quant-0.8.2.tar.gz (20 kB)\n",
            "  Installing build dependencies ... \u001b[?25l\u001b[?25hdone\n",
            "  Getting requirements to build wheel ... \u001b[?25l\u001b[?25hdone\n",
            "  Preparing metadata (pyproject.toml) ... \u001b[?25l\u001b[?25hdone\n",
            "Collecting SQCommon==0.3.2 (from scikit-quant)\n",
            "  Downloading SQCommon-0.3.2.tar.gz (2.9 kB)\n",
            "  Installing build dependencies ... \u001b[?25l\u001b[?25hdone\n",
            "  Getting requirements to build wheel ... \u001b[?25l\u001b[?25hdone\n",
            "  Preparing metadata (pyproject.toml) ... \u001b[?25l\u001b[?25hdone\n",
            "Collecting SQImFil==0.3.7 (from scikit-quant)\n",
            "  Downloading SQImFil-0.3.7.tar.gz (27 kB)\n",
            "  Installing build dependencies ... \u001b[?25l\u001b[?25hdone\n",
            "  Getting requirements to build wheel ... \u001b[?25l\u001b[?25hdone\n",
            "  Preparing metadata (pyproject.toml) ... \u001b[?25l\u001b[?25hdone\n",
            "Collecting SQSnobFit==0.4.5 (from scikit-quant)\n",
            "  Downloading SQSnobFit-0.4.5.tar.gz (29 kB)\n",
            "  Installing build dependencies ... \u001b[?25l\u001b[?25hdone\n",
            "  Getting requirements to build wheel ... \u001b[?25l\u001b[?25hdone\n",
            "  Preparing metadata (pyproject.toml) ... \u001b[?25l\u001b[?25hdone\n",
            "Collecting Py-BOBYQA>=1.2 (from scikit-quant)\n",
            "  Downloading Py_BOBYQA-1.5.0-py3-none-any.whl.metadata (9.5 kB)\n",
            "Requirement already satisfied: numpy in /usr/local/lib/python3.10/dist-packages (from SQCommon==0.3.2->scikit-quant) (1.26.4)\n",
            "Requirement already satisfied: setuptools in /usr/local/lib/python3.10/dist-packages (from Py-BOBYQA>=1.2->scikit-quant) (75.1.0)\n",
            "Requirement already satisfied: scipy in /usr/local/lib/python3.10/dist-packages (from Py-BOBYQA>=1.2->scikit-quant) (1.13.1)\n",
            "Requirement already satisfied: pandas in /usr/local/lib/python3.10/dist-packages (from Py-BOBYQA>=1.2->scikit-quant) (2.2.2)\n",
            "Requirement already satisfied: python-dateutil>=2.8.2 in /usr/local/lib/python3.10/dist-packages (from pandas->Py-BOBYQA>=1.2->scikit-quant) (2.8.2)\n",
            "Requirement already satisfied: pytz>=2020.1 in /usr/local/lib/python3.10/dist-packages (from pandas->Py-BOBYQA>=1.2->scikit-quant) (2024.2)\n",
            "Requirement already satisfied: tzdata>=2022.7 in /usr/local/lib/python3.10/dist-packages (from pandas->Py-BOBYQA>=1.2->scikit-quant) (2024.2)\n",
            "Requirement already satisfied: six>=1.5 in /usr/local/lib/python3.10/dist-packages (from python-dateutil>=2.8.2->pandas->Py-BOBYQA>=1.2->scikit-quant) (1.17.0)\n",
            "Downloading Py_BOBYQA-1.5.0-py3-none-any.whl (57 kB)\n",
            "\u001b[2K   \u001b[90m━━━━━━━━━━━━━━━━━━━━━━━━━━━━━━━━━━━━━━━━\u001b[0m \u001b[32m58.0/58.0 kB\u001b[0m \u001b[31m4.7 MB/s\u001b[0m eta \u001b[36m0:00:00\u001b[0m\n",
            "\u001b[?25hBuilding wheels for collected packages: scikit-quant, SQCommon, SQImFil, SQSnobFit\n",
            "  Building wheel for scikit-quant (pyproject.toml) ... \u001b[?25l\u001b[?25hdone\n",
            "  Created wheel for scikit-quant: filename=scikit_quant-0.8.2-py3-none-any.whl size=21494 sha256=3e13929b769d9acbc8621a057f586340506406621e631c84e177d38ff22f85cd\n",
            "  Stored in directory: /root/.cache/pip/wheels/f4/d4/a9/76f84a991c0bf8a333dd08a89f3089a1031b859f50cfbb6c37\n",
            "  Building wheel for SQCommon (pyproject.toml) ... \u001b[?25l\u001b[?25hdone\n",
            "  Created wheel for SQCommon: filename=SQCommon-0.3.2-py3-none-any.whl size=3318 sha256=4635b969b2cfb19767b9d9079e5d7e8567381f9b047d1b184f45ad884f9cf727\n",
            "  Stored in directory: /root/.cache/pip/wheels/46/38/47/2fdb620b89f8651a1a7a006b8ab3ca7b855f9fc309f4bfb3bd\n",
            "  Building wheel for SQImFil (pyproject.toml) ... \u001b[?25l\u001b[?25hdone\n",
            "  Created wheel for SQImFil: filename=SQImFil-0.3.7-py3-none-any.whl size=29124 sha256=e343ecaeb13c77aa243c217dba199b048a6ae0d2a4bb0c73e6d1c7729df251b2\n",
            "  Stored in directory: /root/.cache/pip/wheels/01/e7/97/6adfdeac67b5f8ddca68eb396833285ee89f08beec14a22c51\n",
            "  Building wheel for SQSnobFit (pyproject.toml) ... \u001b[?25l\u001b[?25hdone\n",
            "  Created wheel for SQSnobFit: filename=SQSnobFit-0.4.5-py3-none-any.whl size=43155 sha256=2265fbdc85fab208e52626fc997c32ad8b0b129e0e5e9c3e687767e3e2b47ed0\n",
            "  Stored in directory: /root/.cache/pip/wheels/b2/23/bf/af20b4113b3edd0fb3f22feccc5c173176fc4e8a51bea315f3\n",
            "Successfully built scikit-quant SQCommon SQImFil SQSnobFit\n",
            "Installing collected packages: SQCommon, SQSnobFit, SQImFil, Py-BOBYQA, scikit-quant\n",
            "Successfully installed Py-BOBYQA-1.5.0 SQCommon-0.3.2 SQImFil-0.3.7 SQSnobFit-0.4.5 scikit-quant-0.8.2\n"
          ]
        }
      ],
      "source": [
        "!pip install qutip\n",
        "!pip install scipy\n",
        "!pip install scikit-quant"
      ]
    },
    {
      "cell_type": "markdown",
      "metadata": {
        "id": "dW9_kkM5C6Ep"
      },
      "source": [
        "Import libaries."
      ]
    },
    {
      "cell_type": "code",
      "execution_count": 2,
      "metadata": {
        "id": "sCouQA6tC-gk"
      },
      "outputs": [],
      "source": [
        "import numpy as np\n",
        "import qutip as qt\n",
        "import skquant.opt as skopt\n",
        "import scipy.optimize as sciopt\n",
        "\n",
        "from scipy.linalg import expm\n",
        "from functools import partial\n",
        "from itertools import combinations"
      ]
    },
    {
      "cell_type": "code",
      "execution_count": 3,
      "metadata": {
        "id": "fxiHaz2DcgFG"
      },
      "outputs": [],
      "source": [
        "import sys"
      ]
    },
    {
      "cell_type": "code",
      "source": [
        "import matplotlib.pyplot as plt"
      ],
      "metadata": {
        "id": "UWUbtR_5ndEf"
      },
      "execution_count": 4,
      "outputs": []
    },
    {
      "cell_type": "markdown",
      "source": [
        "## Basics"
      ],
      "metadata": {
        "id": "yZLRizMS7Nm4"
      }
    },
    {
      "cell_type": "code",
      "source": [
        "def np_arr_string(A):\n",
        "    return np.array2string(A, separator=',')"
      ],
      "metadata": {
        "id": "dAcjeAmaYsYo"
      },
      "execution_count": 5,
      "outputs": []
    },
    {
      "cell_type": "code",
      "source": [
        "def np_arr_append(beta_mag, beta_arg, theta, phi):\n",
        "    beta_mag = np.append(beta_mag, np.random.uniform(0, 3))\n",
        "    beta_arg = np.append(beta_arg, np.random.uniform(0, np.pi))\n",
        "    theta = np.append(theta, np.random.uniform(0, np.pi))\n",
        "    phi = np.append(phi, np.random.uniform(0, np.pi))\n",
        "    return beta_mag, beta_arg, theta, phi"
      ],
      "metadata": {
        "id": "XmbDnMl6Yt0r"
      },
      "execution_count": 6,
      "outputs": []
    },
    {
      "cell_type": "code",
      "execution_count": 7,
      "metadata": {
        "id": "CTyCA4ypWrPj"
      },
      "outputs": [],
      "source": [
        "def get_cvec_np(r, theta):\n",
        "    r = np.array(r)\n",
        "    theta = np.array(theta)\n",
        "    return r * np.exp(1j * theta)"
      ]
    },
    {
      "cell_type": "code",
      "source": [
        "def get_r_theta_np(cvec):\n",
        "    cvec = np.array(cvec)\n",
        "    r = np.abs(cvec)\n",
        "    theta = np.angle(cvec)\n",
        "    theta = np.where(theta < 0, theta + 2*np.pi, theta)\n",
        "    return r, theta"
      ],
      "metadata": {
        "id": "qvKgll70-cfa"
      },
      "execution_count": 8,
      "outputs": []
    },
    {
      "cell_type": "markdown",
      "metadata": {
        "id": "Cc-yL5fkAx_g"
      },
      "source": [
        "## Ansatz"
      ]
    },
    {
      "cell_type": "markdown",
      "metadata": {
        "id": "GxWqWlAcWjJK"
      },
      "source": [
        "Elementary operator matrices."
      ]
    },
    {
      "cell_type": "code",
      "execution_count": 9,
      "metadata": {
        "id": "5O4wEGhknwdJ"
      },
      "outputs": [],
      "source": [
        "def identity_np(N):\n",
        "    return np.eye(N)\n",
        "\n",
        "def basis_np(N, j):\n",
        "    V = np.zeros(N)\n",
        "    V[j] = 1.0\n",
        "    return V\n",
        "\n",
        "def destroy_np(N):\n",
        "    op = np.diag(np.sqrt(np.arange(1, N)), k=1)\n",
        "    return op\n",
        "\n",
        "def create_np(N):\n",
        "    return np.conj(destroy_np(N)).T\n",
        "\n",
        "def sigmax_np():\n",
        "    return np.array([[0 + 1j*0, 1], [1, 0]])\n",
        "\n",
        "def sigmay_np():\n",
        "    return np.array([[0, -1j], [1j, 0]])\n",
        "\n",
        "def qproj00_np():\n",
        "    return np.outer( basis_np(2, 0), basis_np(2, 0) )\n",
        "\n",
        "def qproj11_np():\n",
        "    return np.outer( basis_np(2, 1), basis_np(2, 1) )\n",
        "\n",
        "def qproj01_np():\n",
        "    return np.outer( basis_np(2, 0), basis_np(2, 1) )\n",
        "\n",
        "def qproj10_np():\n",
        "    return np.outer( basis_np(2, 1), basis_np(2, 0) )\n",
        "\n",
        "def hadamard_np():\n",
        "    return (1/np.sqrt(2)) * np.array([[1, 1], [1, -1]])"
      ]
    },
    {
      "cell_type": "code",
      "execution_count": 10,
      "metadata": {
        "id": "LyCGdTKqoT_U"
      },
      "outputs": [],
      "source": [
        "def displace_np(N, alpha):\n",
        "    \"\"\"\n",
        "    D (alpha) = exp( alpha b! - alpha* b ).\n",
        "\n",
        "    Arguments:\n",
        "    alpha -- displacement parameter\n",
        "    N -- Fock cutoff\n",
        "    \"\"\"\n",
        "    gen = ( alpha * create_np(N) )\n",
        "    gen -= ( np.conj(alpha) * destroy_np(N) )\n",
        "\n",
        "    return expm(gen)"
      ]
    },
    {
      "cell_type": "code",
      "source": [
        "def rotation_np(theta, phi):\n",
        "    \"\"\"\n",
        "    R (theta, phi) = exp[ −i (theta/2) ( X cos(phi) + Y sin(phi) ) ].\n",
        "\n",
        "    Arguments:\n",
        "    theta, phi: rotation parameters\n",
        "    \"\"\"\n",
        "    gen = ( sigmax_np() * np.cos(phi) )\n",
        "    gen += ( sigmay_np() * np.sin(phi) )\n",
        "\n",
        "    H = -1j * (theta / 2) * gen\n",
        "\n",
        "    return expm(H)"
      ],
      "metadata": {
        "id": "M54lQuogW9Mj"
      },
      "execution_count": 11,
      "outputs": []
    },
    {
      "cell_type": "markdown",
      "metadata": {
        "id": "iCu0iHWIWntx"
      },
      "source": [
        "ECD-rotation operator matrix is defined as\n",
        "\n",
        "$$ U (\\beta, \\theta, \\phi)\n",
        "= ECD (\\beta) \\: \\big[ R (\\theta, \\phi) \\otimes I \\big]\n",
        "= \\begin{bmatrix}\n",
        "e^{i \\: (\\phi - \\pi/2)} \\: \\sin ( \\theta/2 ) \\: D^\\dagger (\\beta/2) &\n",
        "\\cos ( \\theta/2 ) \\: D^\\dagger (\\beta/2)\n",
        "\\\\\n",
        "\\cos ( \\theta/2 ) \\: D (\\beta/2) &\n",
        "- e^{- i \\: (\\phi - \\pi/2)} \\: \\sin ( \\theta/2 ) \\: D (\\beta/2)\n",
        "\\end{bmatrix},\n",
        "$$\n",
        "where the operators are\n",
        "\n",
        "\\begin{align*}\n",
        "R (\\theta, \\phi)\n",
        "&= e^{ - i (\\theta / 2) \\big[ \\cos(\\phi) X + \\sin(\\phi) Y \\big] },\n",
        "\\\\\n",
        "ECD (\\beta)\n",
        "&= |1 \\rangle \\langle 0| \\otimes D (\\beta / 2)  \n",
        "+ |0 \\rangle \\langle 1| \\otimes D (-\\beta / 2),\n",
        "\\\\\n",
        "D (\\alpha)\n",
        "&= e^{ \\alpha a^\\dagger - \\alpha^* a }.\n",
        "\\end{align*}"
      ]
    },
    {
      "cell_type": "code",
      "source": [
        "def ecd_rot_op_np(beta, theta, phi, nfock):\n",
        "    \"\"\"\n",
        "    O = ECD(beta) (R (theta, phi) x I ).\n",
        "\n",
        "    Reference DOI: 10.1038/s41567-022-01776-9.\n",
        "\n",
        "    Arguments:\n",
        "    beta -- ECD parameter\n",
        "    theta, phi -- rotation parameters\n",
        "    nfock -- number of qumode levels\n",
        "    \"\"\"\n",
        "    ECD = np.kron(qproj10_np(), displace_np(nfock, beta/2))\n",
        "    ECD += np.kron(qproj01_np(), displace_np(nfock, -beta/2))\n",
        "    R = np.kron(rotation_np(theta, phi), identity_np(nfock))\n",
        "    A = np.matmul(ECD, R)\n",
        "\n",
        "    return A"
      ],
      "metadata": {
        "id": "5BRItvGPAmiM"
      },
      "execution_count": 12,
      "outputs": []
    },
    {
      "cell_type": "code",
      "execution_count": 13,
      "metadata": {
        "id": "3bIn4JTvBNBY"
      },
      "outputs": [],
      "source": [
        "def ecd_ansatz_np(beta, theta, phi, nfock):\n",
        "    \"\"\"\n",
        "    ECD-rotation blocks.\n",
        "\n",
        "    Arguments:\n",
        "    beta -- Nb ECD parameters\n",
        "    theta, phi -- Nb rotation parameters\n",
        "    nfock -- number of qumode levels\n",
        "    \"\"\"\n",
        "    # Check\n",
        "    if beta.shape != theta.shape:\n",
        "        raise ValueError(\"Lengths of beta and theta do not match.\")\n",
        "    if beta.shape != phi.shape:\n",
        "        raise ValueError(\"Lengths of beta and phi do not match.\")\n",
        "\n",
        "    # Initialize\n",
        "    ndepth = beta.shape[0]\n",
        "    uni = ecd_rot_op_np(beta[0], theta[0], phi[0], nfock)\n",
        "\n",
        "    # Check\n",
        "    if ndepth == 1:\n",
        "        return uni\n",
        "\n",
        "    # Loop through blocks\n",
        "    for j in range(1, ndepth):\n",
        "        new_uni = ecd_rot_op_np(beta[j], theta[j], phi[j], nfock)\n",
        "        uni = ( np.matmul(new_uni, uni ))\n",
        "\n",
        "    return uni"
      ]
    },
    {
      "cell_type": "code",
      "source": [
        "def ecd_ansatz_np_lcu(C, beta_mat, theta_mat, phi_mat, nfock):\n",
        "    nterms = beta_mat.shape[0]\n",
        "    U = np.zeros((2 * nfock, 2 * nfock,), dtype=np.complex128)\n",
        "    for i in range(nterms):\n",
        "        U += ( C[i] * ecd_ansatz_np(beta_mat[i, :], theta_mat[i, :], phi_mat[i, :], nfock) )\n",
        "    return U"
      ],
      "metadata": {
        "id": "w9Rxb3x4V-kh"
      },
      "execution_count": 14,
      "outputs": []
    },
    {
      "cell_type": "code",
      "source": [
        "def ecd_circuits_np_lcu(beta_mat, theta_mat, phi_mat, nfock):\n",
        "    nterms = beta_mat.shape[0]\n",
        "    Uten = np.zeros((nterms, 2 * nfock, 2 * nfock,), dtype=np.complex128)\n",
        "    for i in range(nterms):\n",
        "        Uten[i] = ecd_ansatz_np(beta_mat[i, :], theta_mat[i, :], phi_mat[i, :], nfock)\n",
        "    return Uten"
      ],
      "metadata": {
        "id": "1aqFOhUwtXBp"
      },
      "execution_count": 15,
      "outputs": []
    },
    {
      "cell_type": "markdown",
      "source": [
        "## Parameter organization"
      ],
      "metadata": {
        "id": "B6QVR4d-fwrU"
      }
    },
    {
      "cell_type": "code",
      "source": [
        "def unpack_params_np(X):\n",
        "    # Initialize\n",
        "    dim = X.shape[0] // 4\n",
        "\n",
        "    # Unpack\n",
        "    beta_mag = X[:dim].copy()\n",
        "    beta_arg = X[dim:2*dim].copy()\n",
        "    theta = X[2*dim:3*dim].copy()\n",
        "    phi = X[3*dim:4*dim].copy()\n",
        "\n",
        "    return beta_mag, beta_arg, theta, phi"
      ],
      "metadata": {
        "id": "UTXQr6K9975y"
      },
      "execution_count": 16,
      "outputs": []
    },
    {
      "cell_type": "code",
      "source": [
        "def pack_params_np(beta_mag, beta_arg, theta, phi):\n",
        "    # Initialize\n",
        "    dim = beta_mag.shape[0]\n",
        "    X = np.zeros((4 * dim,))\n",
        "\n",
        "    # Pack\n",
        "    X[:dim] = beta_mag.copy()\n",
        "    X[dim:2*dim] = beta_arg.copy()\n",
        "    X[2*dim:3*dim] = theta.copy()\n",
        "    X[3*dim:4*dim] = phi.copy()\n",
        "\n",
        "    return X"
      ],
      "metadata": {
        "id": "9-fEP3Ca9-T0"
      },
      "execution_count": 17,
      "outputs": []
    },
    {
      "cell_type": "code",
      "source": [
        "def unpack_params_np_lcu(X, nterms, ndepth):\n",
        "    # Check\n",
        "    if X.shape[0] != ( (4 * ndepth) + 1 ) * nterms:\n",
        "        raise ValueError(\"Wrong dimensions in unpack_params_np_lcu.\")\n",
        "\n",
        "    # Initialize\n",
        "    dim = 4 * ndepth\n",
        "    beta_mag = np.zeros((nterms, ndepth,))\n",
        "    beta_arg = np.zeros((nterms, ndepth,))\n",
        "    theta = np.zeros((nterms, ndepth,))\n",
        "    phi = np.zeros((nterms, ndepth,))\n",
        "\n",
        "    # Unpack\n",
        "    beta_mag[0, :], beta_arg[0, :], theta[0, :], phi[0, :] = unpack_params_np(X[:dim])\n",
        "    for i in range(1, nterms):\n",
        "        beta_mag[i, :], beta_arg[i, :], theta[i, :], phi[i, :] = unpack_params_np(X[i*dim:(i+1)*dim])\n",
        "    C = X[-nterms:].copy()\n",
        "\n",
        "    return C, beta_mag, beta_arg, theta, phi"
      ],
      "metadata": {
        "id": "2aSjCLrrW2MU"
      },
      "execution_count": 18,
      "outputs": []
    },
    {
      "cell_type": "code",
      "source": [
        "def pack_params_np_lcu(C, beta_mag, beta_arg, theta, phi):\n",
        "    # Initialize\n",
        "    nterms = beta_mag.shape[0]\n",
        "    ndepth = beta_mag.shape[1]\n",
        "    dim = 4 * ndepth\n",
        "    X = np.zeros(( (dim + 1) * nterms,))\n",
        "\n",
        "    # Pack\n",
        "    X[:dim] = pack_params_np(beta_mag[0, :], beta_arg[0, :], theta[0, :], phi[0, :])\n",
        "    for i in range(nterms):\n",
        "        X[i*dim:(i+1)*dim] = pack_params_np(beta_mag[i, :], beta_arg[i, :], theta[i, :], phi[i, :])\n",
        "    X[-nterms:] = C.copy()\n",
        "\n",
        "    return X"
      ],
      "metadata": {
        "id": "L6yQOnviW4yy"
      },
      "execution_count": 19,
      "outputs": []
    },
    {
      "cell_type": "markdown",
      "source": [
        "## Loss functions"
      ],
      "metadata": {
        "id": "aK_grAZPaKwk"
      }
    },
    {
      "cell_type": "code",
      "source": [
        "def transition_val_np(op, n, m):\n",
        "    \"\"\"\n",
        "    Compute <n| O |m>.\n",
        "\n",
        "    Arguments:\n",
        "    op -- Operator matrix\n",
        "    n, m -- Fock basis states\n",
        "    \"\"\"\n",
        "    # Check\n",
        "    dim = op.shape[0]\n",
        "    if n > dim:\n",
        "        raise ValueError(\"n > operator dimension.\")\n",
        "    if m > dim:\n",
        "        raise ValueError(\"m > operator dimension.\")\n",
        "\n",
        "    # |n> and |m>\n",
        "    state1 = basis_np(dim, n)\n",
        "    state2 = basis_np(dim, m)\n",
        "\n",
        "    # <q1, n| O |q2, m>\n",
        "    t1 = np.matmul(op, state2)\n",
        "    ov = np.dot(np.conj(state1).T, t1)\n",
        "\n",
        "    return np.squeeze(ov)"
      ],
      "metadata": {
        "id": "T1jD70TpWa5R"
      },
      "execution_count": 20,
      "outputs": []
    },
    {
      "cell_type": "markdown",
      "source": [
        "Let us denote $V_T$ as our target qumode matrix and $U$ as a linear combination of ECD-rotation unitaries\n",
        "\n",
        "$$ U (\\overrightarrow{\\lambda}, \\overrightarrow{\\beta}, \\overrightarrow{\\theta}, \\overrightarrow{\\phi})\n",
        "= \\sum_j \\: \\lambda_j \\: U_j (\\overrightarrow{\\beta_j}, \\overrightarrow{\\theta_j}, \\overrightarrow{\\phi_j}).\n",
        "$$\n",
        "\n",
        "Let us now explore two cost functions:\n",
        "\n",
        "\\begin{align*}\n",
        "C_{diag} (\\overrightarrow{\\beta}, \\overrightarrow{\\theta}, \\overrightarrow{\\phi})\n",
        "&= \\frac{1}{2L} \\: \\sum_{n = 0}^{2L - 1} \\:\n",
        "| \\langle n| ( I \\otimes V_T ) |n \\rangle\n",
        "- \\langle n| U (\\overrightarrow{\\lambda}, \\overrightarrow{\\beta}, \\overrightarrow{\\theta}, \\overrightarrow{\\phi})\n",
        "| n \\rangle |^2,\n",
        "\\\\\n",
        "C_{full} (\\overrightarrow{\\beta}, \\overrightarrow{\\theta}, \\overrightarrow{\\phi})\n",
        "&= \\frac{1}{4 L^2} \\: \\sum_{n, m = 0}^{2L - 1} \\:\n",
        "| \\langle n| ( I \\otimes V_T ) | m \\rangle\n",
        "- \\langle n| U (\\overrightarrow{\\lambda}, \\overrightarrow{\\beta}, \\overrightarrow{\\theta}, \\overrightarrow{\\phi})\n",
        "|m \\rangle |^2,\n",
        "\\end{align*}\n",
        "\n",
        "where $L$ is the qumode Fock cutoff."
      ],
      "metadata": {
        "id": "b4RqXOLNWmKg"
      }
    },
    {
      "cell_type": "code",
      "source": [
        "def cost_fun_diag_lcu(Xvec, nterms, ndepth, V, nfock):\n",
        "    \"\"\"\n",
        "    Loss function.\n",
        "\n",
        "    Arguments:\n",
        "    Xvec -- ECD-rotation parameters\n",
        "    nterms -- number of LCU terms\n",
        "    ndepth -- depth pf each ECD-rotation circuit\n",
        "    V -- target qubit-qumode operator\n",
        "    nfock -- Fock cutoff for qumode\n",
        "    \"\"\"\n",
        "    # Parameters\n",
        "    C, beta_mag, beta_arg, theta, phi = unpack_params_np_lcu(Xvec, nterms, ndepth)\n",
        "    beta = get_cvec_np(beta_mag, beta_arg)\n",
        "\n",
        "    # ECD unitary\n",
        "    U = ecd_ansatz_np_lcu(C, beta, theta, phi, nfock)\n",
        "\n",
        "    # Loop\n",
        "    ov = 0.0\n",
        "    for j in range(2 * nfock):\n",
        "            v0 = transition_val_np(V, j, j)\n",
        "            u0 = transition_val_np(U, j, j)\n",
        "            ov += np.abs( v0 - u0 )**2\n",
        "\n",
        "    return ov / (2 * nfock)"
      ],
      "metadata": {
        "id": "FdycQZi3W21M"
      },
      "execution_count": 21,
      "outputs": []
    },
    {
      "cell_type": "code",
      "source": [
        "def cost_fun_full_lcu(Xvec, nterms, ndepth, V, nfock):\n",
        "    \"\"\"\n",
        "    Loss function.\n",
        "\n",
        "    Arguments:\n",
        "    Xvec -- ECD-rotation parameters\n",
        "    nterms -- number of LCU terms\n",
        "    ndepth -- depth pf each ECD-rotation circuit\n",
        "    V -- target qubit-qumode operator\n",
        "    nfock -- Fock cutoff for qumode\n",
        "    \"\"\"\n",
        "    # Parameters\n",
        "    C, beta_mag, beta_arg, theta, phi = unpack_params_np_lcu(Xvec, nterms, ndepth)\n",
        "    beta = get_cvec_np(beta_mag, beta_arg)\n",
        "\n",
        "    # ECD unitary\n",
        "    U = ecd_ansatz_np_lcu(C, beta, theta, phi, nfock)\n",
        "\n",
        "    # Loop\n",
        "    ov = 0.0\n",
        "    for j in range(2 * nfock):\n",
        "        for k in range(2 * nfock):\n",
        "            t0 = transition_val_np(V, j, k)\n",
        "            t1 = transition_val_np(U, j, k)\n",
        "            ov += np.abs( t0 - t1 )**2\n",
        "\n",
        "    return ov / (4 * nfock**2)"
      ],
      "metadata": {
        "id": "4fwM7rfeXDIi"
      },
      "execution_count": 22,
      "outputs": []
    },
    {
      "cell_type": "markdown",
      "source": [
        "## Expectation value"
      ],
      "metadata": {
        "id": "3pHSQ3PlkM04"
      }
    },
    {
      "cell_type": "markdown",
      "source": [
        "### Tracing out"
      ],
      "metadata": {
        "id": "rwpGrnkrUOKe"
      }
    },
    {
      "cell_type": "markdown",
      "source": [
        "We will use `QuTip` for this part."
      ],
      "metadata": {
        "id": "bb5LVN0yND6A"
      }
    },
    {
      "cell_type": "code",
      "source": [
        "def trace_out_qubit(state, nfock):\n",
        "    \"\"\"\n",
        "    Performs a partial trace over the qubit part of a density matrix,\n",
        "    leaving the reduced density matrix for the qumode.\n",
        "\n",
        "    Arguments:\n",
        "    state -- statevector for qubit-qumode system\n",
        "    nfock -- Fock cutoff\n",
        "    \"\"\"\n",
        "    # Initialize\n",
        "    if not isinstance(state, qt.Qobj):\n",
        "        qstate = qt.Qobj(state)\n",
        "    else:\n",
        "        qstate = state\n",
        "\n",
        "    # Dimension matching\n",
        "    dims = [[2, nfock], [1, 1]]\n",
        "    tstate = qt.Qobj(qstate.data, dims=dims)\n",
        "\n",
        "    # Get density matrix\n",
        "    rho_qumode = tstate.ptrace(1)\n",
        "\n",
        "    return rho_qumode"
      ],
      "metadata": {
        "id": "zcC7wo9KUOKf"
      },
      "execution_count": 23,
      "outputs": []
    },
    {
      "cell_type": "code",
      "source": [
        "def trace_out_qumode(state, nfock):\n",
        "    \"\"\"\n",
        "    Performs a partial trace over the qumode part of a density matrix,\n",
        "    leaving the reduced density matrix for the qubit.\n",
        "\n",
        "    Arguments:\n",
        "    state -- statevector for qubit-qumode system\n",
        "    nfock -- Fock cutoff\n",
        "    \"\"\"\n",
        "    # Initialize\n",
        "    if not isinstance(state, qt.Qobj):\n",
        "        qstate = qt.Qobj(state)\n",
        "    else:\n",
        "        qstate = state\n",
        "\n",
        "    # Dimension matching\n",
        "    dims = [[2, nfock], [1, 1]]\n",
        "    tstate = qt.Qobj(qstate.data, dims=dims)\n",
        "\n",
        "    # Get density matrix\n",
        "    rho_qubit = tstate.ptrace(0)\n",
        "\n",
        "    return rho_qubit"
      ],
      "metadata": {
        "id": "d5NFwDkUPqw-"
      },
      "execution_count": 24,
      "outputs": []
    },
    {
      "cell_type": "markdown",
      "source": [
        "### Hadamard test"
      ],
      "metadata": {
        "id": "OPwUZgSFklKU"
      }
    },
    {
      "cell_type": "code",
      "source": [
        "def measure_qubit(state, nfock):\n",
        "    \"\"\"\n",
        "    Given a qubit-qumode state, compute the expectation value\n",
        "    of Z by only measuring the qubit.\n",
        "    \"\"\"\n",
        "    rho = trace_out_qumode(state, nfock)\n",
        "\n",
        "    return qt.expect(qt.sigmaz(), rho)"
      ],
      "metadata": {
        "id": "9ddx4cUZFpUi"
      },
      "execution_count": 25,
      "outputs": []
    },
    {
      "cell_type": "code",
      "source": [
        "def include_hadamard(U):\n",
        "    \"\"\"\n",
        "    Build the full qubit-qumode operator for Hadamard test\n",
        "    on the qubit with qumode operator U.\n",
        "    \"\"\"\n",
        "    nfock = U.shape[0]\n",
        "    V1 = np.kron(hadamard_np(), identity_np(nfock))\n",
        "    V2 = np.kron(qproj00_np().astype(np.complex128), identity_np(nfock))\n",
        "    V2 += np.kron(qproj11_np().astype(np.complex128), U)\n",
        "\n",
        "    V3 = np.matmul(V2, V1)\n",
        "    V = np.matmul(V1, V3)\n",
        "\n",
        "    return V"
      ],
      "metadata": {
        "id": "OGK9o2SGyqKR"
      },
      "execution_count": 26,
      "outputs": []
    },
    {
      "cell_type": "code",
      "source": [
        "def qubit_measure_random_lcu(V, Uten, C, nsample=5):\n",
        "    \"\"\"\n",
        "    Can we get Re(<psi | V | psi>) by Hadamard matrices M(j)?\n",
        "    Here, we have a linear combination of U(j) matrices, each of\n",
        "    which constructs the M(j) matrices.\n",
        "\n",
        "    V -- reference qumode matrix\n",
        "    Uten -- test sets of qubit-qumode unitaries\n",
        "    C -- LCU coefficients\n",
        "    \"\"\"\n",
        "    # Initialize\n",
        "    S1 = np.zeros((nsample,))\n",
        "    S2 = np.zeros((nsample,))\n",
        "\n",
        "    # Target operator\n",
        "    Vop = qt.Qobj( np.kron(identity_np(2), V) )\n",
        "\n",
        "    # Hadamard blocks\n",
        "    nterms = Uten.shape[0]\n",
        "    nfock = Uten.shape[1] // 2\n",
        "    Mten = np.zeros((nterms, 4 * nfock, 4 * nfock,), dtype=np.complex128)\n",
        "    for i in range(nterms):\n",
        "        Mten[i, :, :] = include_hadamard(Uten[i, :, :])\n",
        "\n",
        "    # Loop\n",
        "    for i in range(nsample):\n",
        "        # |Psi> = |0, psi>\n",
        "        cstate = qt.rand_ket(2 * nfock).unit()\n",
        "        fstate = qt.tensor(qt.basis(2, 0), cstate).full()\n",
        "\n",
        "        # EV1\n",
        "        S1[i] = 0.0\n",
        "        for j in range(nterms):\n",
        "            # |Psi'> = M(j) |Psi>\n",
        "            psi = np.matmul(Mten[j, :, :], fstate)\n",
        "\n",
        "            # Measure\n",
        "            S1[i] += ( C[j] * measure_qubit(psi, 2 * nfock) )\n",
        "\n",
        "        # EV2\n",
        "        S2[i] = np.real(qt.expect(Vop, cstate))\n",
        "\n",
        "    return S1, S2"
      ],
      "metadata": {
        "id": "FjYyU9L78ef0"
      },
      "execution_count": 27,
      "outputs": []
    },
    {
      "cell_type": "markdown",
      "source": [
        "## Core optimizations"
      ],
      "metadata": {
        "id": "QSqLTofg719y"
      }
    },
    {
      "cell_type": "markdown",
      "source": [
        "### Regular"
      ],
      "metadata": {
        "id": "sx0mF5bkA89M"
      }
    },
    {
      "cell_type": "code",
      "source": [
        "def unpack_fun_np_lcu(X, nterms, ndepth, V, nfock, cf):\n",
        "    if cf == 'diag':\n",
        "        return cost_fun_diag_lcu(X, nterms, ndepth, V, nfock)\n",
        "    elif cf == 'full':\n",
        "        return cost_fun_full_lcu(X, nterms, ndepth, V, nfock)\n",
        "    else:\n",
        "        print(f\"Error: cf not found\")\n",
        "        sys.exit(1)"
      ],
      "metadata": {
        "id": "pAv96DlBXCn0"
      },
      "execution_count": 28,
      "outputs": []
    },
    {
      "cell_type": "code",
      "source": [
        "def opt_sckit_lcu(V, ndepth, nterms, cf, budget=100, method='imfil', Xvec=[]):\n",
        "    \"\"\"\n",
        "    Minimize the cost function using Scikit-based methods.\n",
        "\n",
        "    Arguments:\n",
        "    V -- target qumode matrix\n",
        "    ndepth -- ansatz circuit depth\n",
        "    budget -- maximum number of iterations\n",
        "    method -- optimization method\n",
        "    beta_mag, beta_arg, theta, phi -- optional initial guesses\n",
        "    \"\"\"\n",
        "    # Fock cutoff\n",
        "    nfock = V.shape[0]\n",
        "    FullV = np.kron(identity_np(2), V)\n",
        "\n",
        "    # Bound parameters\n",
        "    C_min = -2.0\n",
        "    C_max = 2.0\n",
        "    beta_mag_min = 0.0\n",
        "    beta_mag_max = 10.0\n",
        "    beta_arg_min = 0.0\n",
        "    beta_arg_max = 2 * np.pi\n",
        "    theta_min = 0.0\n",
        "    theta_max = np.pi\n",
        "    phi_min = 0.0\n",
        "    phi_max = 2 * np.pi\n",
        "\n",
        "    # Define bounds\n",
        "    bounds = []\n",
        "    for j in range(nterms):\n",
        "        for _ in range(ndepth):\n",
        "            bounds.append([beta_mag_min, beta_mag_max])\n",
        "        for _ in range(ndepth):\n",
        "            bounds.append([beta_arg_min, beta_arg_max])\n",
        "        for _ in range(ndepth):\n",
        "            bounds.append([theta_min, theta_max])\n",
        "        for _ in range(ndepth):\n",
        "            bounds.append([phi_min, phi_max])\n",
        "    for j in range(nterms):\n",
        "        bounds.append([C_min, C_max])\n",
        "    bounds = np.array(bounds)\n",
        "\n",
        "    # Guess\n",
        "    if len(Xvec) == 0:\n",
        "        C = np.random.uniform(-0.1, 0.1, size=nterms)\n",
        "        beta_mag = np.random.uniform(0, 3, size=(nterms, ndepth))\n",
        "        beta_arg = np.random.uniform(0, np.pi, size=(nterms, ndepth))\n",
        "        theta = np.random.uniform(0, np.pi, size=(nterms, ndepth))\n",
        "        phi = np.random.uniform(0, np.pi, size=(nterms, ndepth))\n",
        "        Xvec = pack_params_np_lcu(C, beta_mag, beta_arg, theta, phi)\n",
        "\n",
        "    # Loss function\n",
        "    obj_fun = partial(unpack_fun_np_lcu, nterms=nterms, ndepth=ndepth, V=FullV, nfock=nfock, cf=cf)\n",
        "\n",
        "    # Optimize\n",
        "    if method == 'bobyqa':\n",
        "        result, history = skopt.minimize(obj_fun, Xvec, bounds, budget, method='bobyqa')\n",
        "    else:\n",
        "        result, history = skopt.minimize(obj_fun, Xvec, bounds, budget, method='imfil')\n",
        "\n",
        "    return result.optval, result.optpar"
      ],
      "metadata": {
        "id": "azi6K8w8A5xJ"
      },
      "execution_count": 29,
      "outputs": []
    },
    {
      "cell_type": "code",
      "source": [
        "def opt_scipy_lcu(V, ndepth, nterms, cf, maxiter=100, method='COBYLA', \\\n",
        "                  threshold=1e-08, Xvec=[]):\n",
        "    \"\"\"\n",
        "    Minimize the cost function using SciPy-based methods.\n",
        "\n",
        "    Arguments:\n",
        "    V -- target qumode matrix\n",
        "    ndepth -- ansatz circuit depth\n",
        "    maxiter -- maximum number of iterations\n",
        "    method -- optimization method\n",
        "    threshold -- error tolerance\n",
        "    beta_mag, beta_arg, theta, phi -- optional initial guesses\n",
        "    \"\"\"\n",
        "    # Fock cutoff\n",
        "    nfock = V.shape[0]\n",
        "    FullV = np.kron(identity_np(2), V)\n",
        "\n",
        "    # Bound parameters\n",
        "    C_min = -2.0\n",
        "    C_max = 2.0\n",
        "    beta_mag_min = 0.0\n",
        "    beta_mag_max = 10.0\n",
        "    beta_arg_min = 0.0\n",
        "    beta_arg_max = 2 * np.pi\n",
        "    theta_min = 0.0\n",
        "    theta_max = np.pi\n",
        "    phi_min = 0.0\n",
        "    phi_max = 2 * np.pi\n",
        "\n",
        "    # Define bounds\n",
        "    bounds = []\n",
        "    for j in range(nterms):\n",
        "        for _ in range(ndepth):\n",
        "            bounds.append([beta_mag_min, beta_mag_max])\n",
        "        for _ in range(ndepth):\n",
        "            bounds.append([beta_arg_min, beta_arg_max])\n",
        "        for _ in range(ndepth):\n",
        "            bounds.append([theta_min, theta_max])\n",
        "        for _ in range(ndepth):\n",
        "            bounds.append([phi_min, phi_max])\n",
        "    for j in range(nterms):\n",
        "        bounds.append([C_min, C_max])\n",
        "    bounds = np.array(bounds)\n",
        "\n",
        "    # Guess\n",
        "    if len(Xvec) == 0:\n",
        "        C = np.random.uniform(-0.1, 0.1, size=nterms)\n",
        "        beta_mag = np.random.uniform(0, 3, size=(nterms, ndepth))\n",
        "        beta_arg = np.random.uniform(0, np.pi, size=(nterms, ndepth))\n",
        "        theta = np.random.uniform(0, np.pi, size=(nterms, ndepth))\n",
        "        phi = np.random.uniform(0, np.pi, size=(nterms, ndepth))\n",
        "        Xvec = pack_params_np_lcu(C, beta_mag, beta_arg, theta, phi)\n",
        "\n",
        "    # Loss function\n",
        "    obj_fun = partial(unpack_fun_np_lcu, nterms=nterms, ndepth=ndepth, V=FullV, nfock=nfock, cf=cf)\n",
        "\n",
        "    # SciPy options\n",
        "    options = {'disp': True, 'maxiter': maxiter}\n",
        "\n",
        "    # Optimize\n",
        "    if method == 'COBYLA':\n",
        "        result = sciopt.minimize(obj_fun, Xvec, method=method, bounds=bounds, \\\n",
        "                                 tol=threshold, options=options)\n",
        "    elif method == 'Powell':\n",
        "        result = sciopt.minimize(obj_fun, Xvec, method=method, bounds=bounds, \\\n",
        "                                 tol=threshold, options=options)\n",
        "    elif method == 'CG':\n",
        "        result = sciopt.minimize(obj_fun, Xvec, method=method, \\\n",
        "                                 tol=threshold, options=options)\n",
        "    elif method == 'BFGS':\n",
        "        result = sciopt.minimize(obj_fun, Xvec, method=method, \\\n",
        "                                 tol=threshold, options=options)\n",
        "    elif method == 'L-BFGS-B':\n",
        "        result = sciopt.minimize(obj_fun, Xvec, method=method, bounds=bounds, \\\n",
        "                                 tol=threshold, options=options)\n",
        "    elif method == 'TNC':\n",
        "        result = sciopt.minimize(obj_fun, Xvec, method=method, \\\n",
        "                                 bounds=bounds, tol=threshold)\n",
        "    elif method == 'trust-constr':\n",
        "        result = sciopt.minimize(obj_fun, Xvec, method=method, bounds=bounds, \\\n",
        "                                 tol=threshold, options=options)\n",
        "    else:\n",
        "        result = sciopt.minimize(obj_fun, Xvec, method='COBYLA', bounds=bounds, \\\n",
        "                                 tol=threshold, options=options)\n",
        "\n",
        "    return result.fun, result.x"
      ],
      "metadata": {
        "id": "Zkhw5ps6_hWh"
      },
      "execution_count": 30,
      "outputs": []
    },
    {
      "cell_type": "code",
      "source": [
        "def ecd_opt_lcu_regular(V, ndepth, nterms, cf, budget=100, method='imfil', \\\n",
        "                        threshold=1e-08, Xvec=[]):\n",
        "    \"\"\"\n",
        "    Minimize the cost function using various optimizers.\n",
        "\n",
        "    Arguments:\n",
        "    V -- target qumode matrix\n",
        "    ndepth -- ansatz circuit depth\n",
        "    budget -- maximum number of iterations\n",
        "    method -- optimization method\n",
        "    threshold -- error tolerance\n",
        "    beta_mag, beta_arg, theta, phi -- optional initial guesses\n",
        "    \"\"\"\n",
        "    # Method library\n",
        "    sk_tuple = ('imfil', 'bobyqa',)\n",
        "    sc_tuple = ('COBYLA', 'Powell', 'CG', 'BFGS', 'L-BFGS-B', 'TNC', 'trust-constr')\n",
        "\n",
        "    # Optimize\n",
        "    if method in sk_tuple:\n",
        "        loss, Xvec = opt_sckit_lcu(V, ndepth, nterms, cf=cf, budget=budget, \\\n",
        "                                   method=method, Xvec=Xvec)\n",
        "    elif method in sc_tuple:\n",
        "        loss, Xvec = opt_scipy_lcu(V, ndepth, nterms, cf=cf, maxiter=budget, \\\n",
        "                                   method=method, threshold=threshold, Xvec=Xvec)\n",
        "    else:\n",
        "        print(f\"Error: method not found\")\n",
        "        sys.exit(1)\n",
        "\n",
        "    return loss, Xvec"
      ],
      "metadata": {
        "id": "21tQjptZ_98X"
      },
      "execution_count": 31,
      "outputs": []
    },
    {
      "cell_type": "markdown",
      "source": [
        "### Multi-start"
      ],
      "metadata": {
        "id": "NYYGvAoiBlg2"
      }
    },
    {
      "cell_type": "code",
      "source": [
        "def ecd_opt_lcu_sample(V, ndepth, nterms, cf, ns=10, verb=1, budget=100, \\\n",
        "                       method='imfil', threshold=1e-08):\n",
        "    \"\"\"\n",
        "    Minimize the cost function with different sets of initial guesses.\n",
        "\n",
        "    Arguments:\n",
        "    V -- target qumode matrix\n",
        "    ndepth -- ansatz circuit depth\n",
        "    ns -- number of guess sets\n",
        "    verb -- decide additional printing\n",
        "    budget -- maximum number of iterations\n",
        "    method -- optimization method\n",
        "    threshold -- error tolerance\n",
        "    \"\"\"\n",
        "    # Initialize\n",
        "    prev_loss = float('inf')\n",
        "    dim = ( (4 * ndepth) + 1 ) * nterms\n",
        "    Xvec = np.zeros((dim,))\n",
        "\n",
        "    # Print\n",
        "    if verb == 1:\n",
        "        print(\"========Sample========\")\n",
        "\n",
        "    # Sampling loop\n",
        "    for j in range(ns):\n",
        "\n",
        "        # Optimize\n",
        "        loss, X_f = ecd_opt_lcu_regular(V, ndepth, nterms, cf, budget=budget, \\\n",
        "                                        method=method, threshold=threshold)\n",
        "\n",
        "        # Print\n",
        "        if verb == 1:\n",
        "            print(\"--------\")\n",
        "            print(\"sample number: \", j+1)\n",
        "            print(\"loss: \", loss)\n",
        "\n",
        "        # Choose\n",
        "        if loss < prev_loss:\n",
        "            prev_loss = loss\n",
        "            Xvec = X_f\n",
        "\n",
        "    return prev_loss, Xvec"
      ],
      "metadata": {
        "id": "Z8nhLcnqcYrW"
      },
      "execution_count": 32,
      "outputs": []
    },
    {
      "cell_type": "markdown",
      "source": [
        "## Explore"
      ],
      "metadata": {
        "id": "ABTceOfNZ_Yh"
      }
    },
    {
      "cell_type": "code",
      "source": [
        "def test_core_lcu_uni(ndepth, nterms):\n",
        "    # Target\n",
        "    V = qt.tensor( qt.sigmax(), qt.qeye(4) )\n",
        "    V = V.full()\n",
        "\n",
        "    # Optimize\n",
        "    for i in range(nterms):\n",
        "        loss, Xvec = ecd_opt_lcu_regular(V, ndepth, i+1, 'full', budget=int(2e3), \\\n",
        "                                         method='BFGS', threshold=1e-12)\n",
        "        print(f\"loss of {i+1} terms: {loss}\")\n",
        "\n",
        "    return loss"
      ],
      "metadata": {
        "id": "ffWTrLvMaA1G"
      },
      "execution_count": null,
      "outputs": []
    },
    {
      "cell_type": "code",
      "source": [
        "ndepth = 4\n",
        "nterms = 10\n",
        "\n",
        "test_core_lcu_uni(ndepth, nterms)"
      ],
      "metadata": {
        "id": "MnZEI2u9aXMf"
      },
      "execution_count": null,
      "outputs": []
    },
    {
      "cell_type": "code",
      "source": [
        "def test_core_lcu_hadamard(ndepth, nterms, nsample):\n",
        "    # Target\n",
        "    V = qt.sigmax() #qt.tensor( qt.sigmax(), qt.sigmaz() )\n",
        "    V = V.full()\n",
        "\n",
        "    # Optimize\n",
        "    loss, Xvec = ecd_opt_lcu_sample(V, ndepth, nterms, 'full', ns=1, verb=1, \\\n",
        "                                    budget=int(2e2), method='BFGS', threshold=1e-12)\n",
        "\n",
        "    # Print\n",
        "    print(\"----------\")\n",
        "    print(\"Loss: \", loss)\n",
        "\n",
        "    # ECD unitary\n",
        "    nfock = V.shape[0]\n",
        "    C, beta_mag, beta_arg, theta, phi = unpack_params_np_lcu(Xvec, nterms, ndepth)\n",
        "    beta = get_cvec_np(beta_mag, beta_arg)\n",
        "    Uten = ecd_circuits_np_lcu(beta, theta, phi, nfock)\n",
        "\n",
        "    # Hadamard test\n",
        "    S1, S2 = qubit_measure_random_lcu(V, Uten, C, nsample=5)\n",
        "\n",
        "    return np.abs(S1 - S2)"
      ],
      "metadata": {
        "id": "AfsG4AhZoElE"
      },
      "execution_count": null,
      "outputs": []
    },
    {
      "cell_type": "code",
      "source": [
        "ndepth = 2\n",
        "nterms = 1\n",
        "nsample = 5\n",
        "\n",
        "test_core_lcu_hadamard(ndepth, nterms, nsample)"
      ],
      "metadata": {
        "id": "S1Bj44bFabPw"
      },
      "execution_count": null,
      "outputs": []
    }
  ],
  "metadata": {
    "colab": {
      "machine_shape": "hm",
      "provenance": [],
      "toc_visible": true
    },
    "kernelspec": {
      "display_name": "Python 3",
      "name": "python3"
    },
    "language_info": {
      "name": "python"
    }
  },
  "nbformat": 4,
  "nbformat_minor": 0
}