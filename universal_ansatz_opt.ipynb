{
  "cells": [
    {
      "cell_type": "markdown",
      "metadata": {
        "id": "GTuUo9-GBwrx"
      },
      "source": [
        "# Qubit-qumode circuit synthesis"
      ]
    },
    {
      "cell_type": "markdown",
      "metadata": {
        "id": "pkutZEHfHDm7"
      },
      "source": [
        "Using optimizers based on `NumPy` objects to present qubit-qumode or qmode circuit for a given qumode unitary operator."
      ]
    },
    {
      "cell_type": "markdown",
      "metadata": {
        "id": "J0tBc-IKGzVS"
      },
      "source": [
        "## Prerequisite"
      ]
    },
    {
      "cell_type": "markdown",
      "metadata": {
        "id": "v6PZ-ceICzov"
      },
      "source": [
        "Installation cells for Google Colab users."
      ]
    },
    {
      "cell_type": "code",
      "execution_count": null,
      "metadata": {
        "colab": {
          "base_uri": "https://localhost:8080/"
        },
        "id": "WkHT4A_rYRr8",
        "outputId": "3afe35fb-bd8d-4a15-8d15-61c6105566e6"
      },
      "outputs": [
        {
          "output_type": "stream",
          "name": "stdout",
          "text": [
            "Collecting qutip\n",
            "  Downloading qutip-5.0.4-cp310-cp310-manylinux_2_17_x86_64.manylinux2014_x86_64.whl.metadata (9.2 kB)\n",
            "Requirement already satisfied: numpy>=1.22 in /usr/local/lib/python3.10/dist-packages (from qutip) (1.26.4)\n",
            "Requirement already satisfied: scipy>=1.9 in /usr/local/lib/python3.10/dist-packages (from qutip) (1.13.1)\n",
            "Requirement already satisfied: packaging in /usr/local/lib/python3.10/dist-packages (from qutip) (24.1)\n",
            "Downloading qutip-5.0.4-cp310-cp310-manylinux_2_17_x86_64.manylinux2014_x86_64.whl (28.0 MB)\n",
            "\u001b[2K   \u001b[90m━━━━━━━━━━━━━━━━━━━━━━━━━━━━━━━━━━━━━━━━\u001b[0m \u001b[32m28.0/28.0 MB\u001b[0m \u001b[31m54.8 MB/s\u001b[0m eta \u001b[36m0:00:00\u001b[0m\n",
            "\u001b[?25hInstalling collected packages: qutip\n",
            "Successfully installed qutip-5.0.4\n",
            "Requirement already satisfied: scipy in /usr/local/lib/python3.10/dist-packages (1.13.1)\n",
            "Requirement already satisfied: numpy<2.3,>=1.22.4 in /usr/local/lib/python3.10/dist-packages (from scipy) (1.26.4)\n"
          ]
        }
      ],
      "source": [
        "!pip install qutip\n",
        "!pip install scipy"
      ]
    },
    {
      "cell_type": "markdown",
      "metadata": {
        "id": "dW9_kkM5C6Ep"
      },
      "source": [
        "Import libaries."
      ]
    },
    {
      "cell_type": "code",
      "execution_count": null,
      "metadata": {
        "id": "sCouQA6tC-gk"
      },
      "outputs": [],
      "source": [
        "import numpy as np\n",
        "import qutip as qt\n",
        "import scipy.optimize as sciopt\n",
        "\n",
        "from scipy.linalg import expm\n",
        "from functools import partial\n",
        "from itertools import combinations"
      ]
    },
    {
      "cell_type": "code",
      "execution_count": null,
      "metadata": {
        "id": "fxiHaz2DcgFG"
      },
      "outputs": [],
      "source": [
        "import sys"
      ]
    },
    {
      "cell_type": "code",
      "execution_count": null,
      "metadata": {
        "id": "WE47rXbx07pe"
      },
      "outputs": [],
      "source": [
        "import matplotlib.pyplot as plt"
      ]
    },
    {
      "cell_type": "markdown",
      "metadata": {
        "id": "Cc-yL5fkAx_g"
      },
      "source": [
        "## Ansatz circuits"
      ]
    },
    {
      "cell_type": "markdown",
      "metadata": {
        "id": "GxWqWlAcWjJK"
      },
      "source": [
        "We will using `QuTip` and follow ( qubit $\\otimes$ qumode ) notation where applicable."
      ]
    },
    {
      "cell_type": "markdown",
      "metadata": {
        "id": "rHmy8HRy58NU"
      },
      "source": [
        "### Basics"
      ]
    },
    {
      "cell_type": "code",
      "execution_count": null,
      "metadata": {
        "id": "jmiGK2zs-7mq"
      },
      "outputs": [],
      "source": [
        "def get_cvec_np(r, theta):\n",
        "    r = np.array(r)\n",
        "    theta = np.array(theta)\n",
        "    return r * np.exp(1j * theta)"
      ]
    },
    {
      "cell_type": "code",
      "execution_count": null,
      "metadata": {
        "id": "3w6-kliQ5b_m"
      },
      "outputs": [],
      "source": [
        "def qproj00():\n",
        "    return qt.basis(2, 0).proj()\n",
        "\n",
        "def qproj11():\n",
        "    return qt.basis(2, 1).proj()\n",
        "\n",
        "def qproj01():\n",
        "    op = np.array([[0, 1], [0, 0]])\n",
        "    return qt.Qobj(op)\n",
        "\n",
        "def qproj10():\n",
        "    op = np.array([[0, 0], [1, 0]])\n",
        "    return qt.Qobj(op)"
      ]
    },
    {
      "cell_type": "code",
      "execution_count": null,
      "metadata": {
        "id": "M54lQuogW9Mj"
      },
      "outputs": [],
      "source": [
        "def qubit_rot(theta, phi):\n",
        "    \"\"\"\n",
        "    R (theta, phi) = exp[ −i (theta/2) ( X cos(phi) + Y sin(phi) ) ].\n",
        "\n",
        "    Arguments:\n",
        "    theta, phi: rotation parameters\n",
        "    \"\"\"\n",
        "    gen = ( qt.sigmax() * np.cos(phi) )\n",
        "    gen += ( qt.sigmay() * np.sin(phi) )\n",
        "\n",
        "    H = -1j * (theta / 2) * gen\n",
        "\n",
        "    return H.expm()"
      ]
    },
    {
      "cell_type": "markdown",
      "metadata": {
        "id": "ZLiRBOGL5-Lb"
      },
      "source": [
        "### ECD-rotation"
      ]
    },
    {
      "cell_type": "markdown",
      "metadata": {
        "id": "iCu0iHWIWntx"
      },
      "source": [
        "Qubit rotation with qumode echoed conditional displacement (ECD) operator ([reference](https://doi.org/10.1038/s41567-022-01776-9))\n",
        "\n",
        "\\begin{align*}\n",
        "U (\\beta, \\theta, \\phi)\n",
        "&= ECD (\\beta) \\: \\big[ R (\\theta, \\phi) \\otimes I \\big],\n",
        "\\\\\n",
        "R (\\theta, \\phi)\n",
        "&= e^{ - i (\\theta / 2) \\big[ \\cos(\\phi) X + \\sin(\\phi) Y \\big] },\n",
        "\\\\\n",
        "ECD (\\beta)\n",
        "&= |1 \\rangle \\langle 0| \\otimes D (\\beta / 2)  \n",
        "+ |0 \\rangle \\langle 1| \\otimes D (-\\beta / 2),\n",
        "\\\\\n",
        "D (\\beta)\n",
        "&= e^{ \\beta a^\\dagger - \\beta^* a }.\n",
        "\\end{align*}"
      ]
    },
    {
      "cell_type": "code",
      "execution_count": null,
      "metadata": {
        "id": "5BRItvGPAmiM"
      },
      "outputs": [],
      "source": [
        "def ecd_rot_op(beta, theta, phi, nfock):\n",
        "    \"\"\"\n",
        "    ECD-rotation operator.\n",
        "\n",
        "    Arguments:\n",
        "    beta -- ECD parameter\n",
        "    theta, phi -- rotation parameters\n",
        "    nfock -- Fock cutoff\n",
        "    \"\"\"\n",
        "    # ECD\n",
        "    E2 = qt.tensor(qproj10(), qt.displace(nfock, beta/2))\n",
        "    E2 += qt.tensor(qproj01(), qt.displace(nfock, -beta/2))\n",
        "\n",
        "    # Rotation\n",
        "    R2 = qt.tensor(qubit_rot(theta, phi), qt.qeye(nfock))\n",
        "\n",
        "    return E2 * R2"
      ]
    },
    {
      "cell_type": "markdown",
      "metadata": {
        "id": "F49AHGrSw_j2"
      },
      "source": [
        "Build the ansatz matrix of depth $N_d$\n",
        "\n",
        "$$ \\mathcal{U} (\\vec{\\beta}, \\vec{\\theta}, \\vec{\\phi})\n",
        "= U (\\beta_{N_d}, \\theta_{N_d}, \\phi_{N_d}) \\cdots\n",
        "U (\\beta_1, \\theta_1, \\phi_1),\n",
        "$$\n",
        "\n",
        "where $\\vec{\\beta}, \\vec{\\theta}$, and $\\vec{\\phi}$ are $N_d$-dimensional vectors."
      ]
    },
    {
      "cell_type": "code",
      "execution_count": null,
      "metadata": {
        "id": "3bIn4JTvBNBY"
      },
      "outputs": [],
      "source": [
        "def ecd_rot_ansatz(bmagvec, bargvec, thetavec, phivec, nfock):\n",
        "    \"\"\"\n",
        "    ECD-rotation ansatz.\n",
        "\n",
        "    Arguments:\n",
        "    bmagvec, bargvec -- ECD parameters\n",
        "    thetavec, phivec -- rotation parameters\n",
        "    nfock -- Fock cutoff\n",
        "    \"\"\"\n",
        "    # Check\n",
        "    if bmagvec.shape != bargvec.shape:\n",
        "        raise ValueError(\"Dimensions of bmagvec and bargvec do not match.\")\n",
        "    betavec = get_cvec_np(bmagvec, bargvec)\n",
        "    if betavec.shape != thetavec.shape:\n",
        "        raise ValueError(\"Lengths of betavec and thetavec do not match.\")\n",
        "    if betavec.shape != phivec.shape:\n",
        "        raise ValueError(\"Lengths of betavec and phivec do not match.\")\n",
        "\n",
        "    # Initialize\n",
        "    ndepth = betavec.shape[0]\n",
        "    uni = ecd_rot_op(betavec[0], thetavec[0], phivec[0], nfock)\n",
        "\n",
        "    # Check\n",
        "    if ndepth == 1:\n",
        "        return uni\n",
        "\n",
        "    # Loop through blocks\n",
        "    for i in range(1, ndepth):\n",
        "        new_uni = ecd_rot_op(betavec[i], thetavec[i], phivec[i], nfock)\n",
        "        uni = ( new_uni * uni )\n",
        "\n",
        "    return uni.full()"
      ]
    },
    {
      "cell_type": "markdown",
      "metadata": {
        "id": "l510AKrwGiyl"
      },
      "source": [
        "### SQR-displacement"
      ]
    },
    {
      "cell_type": "markdown",
      "metadata": {
        "id": "ELFCXrU7Giyt"
      },
      "source": [
        "Photon-number selective qubit rotation (SQR) and displacement operator ([reference](https://arxiv.org/abs/2407.10381))\n",
        "\n",
        "\\begin{align*}\n",
        "U (\\beta, \\vec{\\theta}, \\vec{\\phi})\n",
        "&= SQR (\\vec{\\theta}, \\vec{\\phi}) \\:\n",
        "\\big[ I \\otimes D (\\beta) \\big],\n",
        "\\\\\n",
        "SQR (\\vec{\\theta}, \\vec{\\phi})\n",
        "&= \\sum_{n = 0}^{L - 1} \\: R ( \\theta_n, \\phi_n ) \\otimes\n",
        "|n \\rangle \\langle n|,\n",
        "\\\\\n",
        "R (\\theta, \\phi)\n",
        "&= e^{ - i (\\theta / 2) \\big[ \\cos(\\phi) X + \\sin(\\phi) Y \\big] },\n",
        "\\\\\n",
        "D (\\beta)\n",
        "&= e^{ \\beta a^\\dagger - \\beta^* a }.\n",
        "\\end{align*}"
      ]
    },
    {
      "cell_type": "code",
      "execution_count": null,
      "metadata": {
        "id": "2bLoQdwgGiyt"
      },
      "outputs": [],
      "source": [
        "def sqr_disp_op(beta, thetavec, phivec):\n",
        "    \"\"\"\n",
        "    SQR-displacement operator.\n",
        "\n",
        "    Arguments:\n",
        "    beta -- displacement coefficient\n",
        "    thetavec, phivec -- SQR parameters\n",
        "    \"\"\"\n",
        "    # Check\n",
        "    if thetavec.shape != phivec.shape:\n",
        "        raise ValueError(\"Lengths of thetavec and phivec do not match.\")\n",
        "\n",
        "    # Initialize\n",
        "    nfock = thetavec.shape[0]\n",
        "\n",
        "    # SQR\n",
        "    S2 = qt.tensor( qubit_rot(thetavec[0], phivec[0]), qt.basis(nfock, 0).proj() )\n",
        "    for i in range(1, nfock):\n",
        "        S2 += qt.tensor( qubit_rot(thetavec[i], phivec[i]), qt.basis(nfock, i).proj() )\n",
        "\n",
        "    # Displacement\n",
        "    D2 = qt.tensor(qt.qeye(2), qt.displace(nfock, beta))\n",
        "\n",
        "    return S2 * D2"
      ]
    },
    {
      "cell_type": "markdown",
      "metadata": {
        "id": "gKc5Bvghyulr"
      },
      "source": [
        "Build the ansatz matrix of depth $N_d$\n",
        "\n",
        "$$ \\mathcal{U} (\\vec{\\beta}, \\bar{\\theta}, \\bar{\\phi})\n",
        "= U (\\beta_{N_d}, \\vec{\\theta}_{N_d}, \\vec{\\phi}_{N_d}) \\cdots\n",
        "U (\\beta_1, \\vec{\\theta}_1, \\vec{\\phi}_1),\n",
        "$$\n",
        "\n",
        "where $\\vec{\\beta}$ is an $N_d$-dimensional vector and\n",
        "$ \\bar{\\theta}_{N_d \\times L}, \\bar{\\phi}_{N_d \\times L} $ are matrices.\n"
      ]
    },
    {
      "cell_type": "code",
      "execution_count": null,
      "metadata": {
        "id": "JBBtBMxzGiyu"
      },
      "outputs": [],
      "source": [
        "def sqr_disp_ansatz(bmagvec, bargvec, thetamat, phimat, nfock):\n",
        "    \"\"\"\n",
        "    SQR-displacement ansatz.\n",
        "\n",
        "    Arguments:\n",
        "    bmagvec, bargvec -- displacement parameters\n",
        "    thetamat, phimat -- SQR parameters\n",
        "    nfock -- Fock cutoff\n",
        "    \"\"\"\n",
        "    # Check\n",
        "    if bmagvec.shape != bargvec.shape:\n",
        "        raise ValueError(\"Dimensions of bmagvec and bargvec do not match.\")\n",
        "    betavec = get_cvec_np(bmagvec, bargvec)\n",
        "    if thetamat.shape != phimat.shape:\n",
        "        raise ValueError(\"Dimensions of thetamat and phimat do not match.\")\n",
        "    if thetamat.shape[0] != betavec.shape[0]:\n",
        "        raise ValueError(\"Lengths of theta and beta do not match.\")\n",
        "    if thetamat.shape[1] != nfock:\n",
        "        raise ValueError(\"Incorrect nfock chosen.\")\n",
        "\n",
        "    # Initialize\n",
        "    ndepth = thetamat.shape[0]\n",
        "    uni = sqr_disp_op(betavec[0], thetamat[0, :], phimat[0, :])\n",
        "\n",
        "    # Check\n",
        "    if ndepth == 1:\n",
        "        return uni\n",
        "\n",
        "    # Loop through blocks\n",
        "    for i in range(1, ndepth):\n",
        "        new_uni = sqr_disp_op(betavec[i], thetamat[i, :], phimat[i, :])\n",
        "        uni = ( new_uni * uni )\n",
        "\n",
        "    return uni.full()"
      ]
    },
    {
      "cell_type": "markdown",
      "metadata": {
        "id": "b4w1ncIQ_ko5"
      },
      "source": [
        "### SNAP-displacement"
      ]
    },
    {
      "cell_type": "markdown",
      "metadata": {
        "id": "po6Wa72B_wd_"
      },
      "source": [
        "Selective number-dependent arbitray phase (SNAP) and displacement operator ([reference](https://doi.org/10.1103/PhysRevA.92.040303))\n",
        "\n",
        "\\begin{align*}\n",
        "U (\\alpha, \\vec{\\theta})\n",
        "&= S (\\vec{\\theta}) \\: D (\\alpha),\n",
        "\\\\\n",
        "S (\\vec{\\theta})\n",
        "&= \\sum_{n = 0}^{L - 1} \\: \\exp ( i \\: \\theta_n ) \\: |n \\rangle \\langle n|,\n",
        "\\\\\n",
        "D (\\alpha)\n",
        "&= e^{ \\alpha \\: ( a^\\dagger - a ) }.\n",
        "\\end{align*}"
      ]
    },
    {
      "cell_type": "code",
      "execution_count": null,
      "metadata": {
        "id": "IL4T2ewrCglY"
      },
      "outputs": [],
      "source": [
        "def snap_disp_op(alpha, thetavec):\n",
        "    \"\"\"\n",
        "    SNAP-displacement operator.\n",
        "\n",
        "    Arguments:\n",
        "    alpha -- displacement coefficient\n",
        "    thetavec -- SNAP parameters\n",
        "    \"\"\"\n",
        "    # Initialize\n",
        "    nfock = thetavec.shape[0]\n",
        "\n",
        "    # SNAP\n",
        "    S2 = np.exp(1j * thetavec[0]) * qt.basis(nfock, 0).proj()\n",
        "    for i in range(1, nfock):\n",
        "        S2 += np.exp(1j * thetavec[i]) * qt.basis(nfock, i).proj()\n",
        "\n",
        "    # Rotation\n",
        "    D2 = qt.displace(nfock, alpha)\n",
        "\n",
        "    return S2 * D2"
      ]
    },
    {
      "cell_type": "markdown",
      "metadata": {
        "id": "6cQsH0ev1LG6"
      },
      "source": [
        "Build the ansatz matrix of depth $N_d$\n",
        "\n",
        "$$ \\mathcal{U} (\\vec{\\alpha}, \\bar{\\theta})\n",
        "= U (\\alpha_{N_d}, \\vec{\\theta}_{N_d}) \\cdots\n",
        "U (\\alpha_1, \\vec{\\theta}_1),\n",
        "$$\n",
        "\n",
        "where $\\vec{\\alpha}$ is an $N_d$-dimensional vector and\n",
        "$ \\bar{\\theta}_{N_d \\times L} $ is a matrix.\n"
      ]
    },
    {
      "cell_type": "code",
      "execution_count": null,
      "metadata": {
        "id": "wWyA_LuaDsI-"
      },
      "outputs": [],
      "source": [
        "def snap_disp_ansatz(alphavec, thetamat, nfock):\n",
        "    \"\"\"\n",
        "    SNAP-displacement ansatz.\n",
        "\n",
        "    Arguments:\n",
        "    alphavec -- displacement parameters\n",
        "    thetamat -- SNAP parameters\n",
        "    nfock -- Fock cutoff\n",
        "    \"\"\"\n",
        "    # Check\n",
        "    if thetamat.shape[0] != alphavec.shape[0]:\n",
        "        raise ValueError(\"Lengths of theta and alpha do not match.\")\n",
        "    if thetamat.shape[1] != nfock:\n",
        "        raise ValueError(\"Incorrect nfock chosen.\")\n",
        "\n",
        "    # Initialize\n",
        "    ndepth = thetamat.shape[0]\n",
        "    uni = snap_disp_op(alphavec[0], thetamat[0, :])\n",
        "\n",
        "    # Check\n",
        "    if ndepth == 1:\n",
        "        return uni\n",
        "\n",
        "    # Loop through blocks\n",
        "    for i in range(1, ndepth):\n",
        "        new_uni = snap_disp_op(alphavec[i], thetamat[i, :])\n",
        "        uni = ( new_uni * uni )\n",
        "\n",
        "    return uni.full()"
      ]
    },
    {
      "cell_type": "markdown",
      "metadata": {
        "id": "aK_grAZPaKwk"
      },
      "source": [
        "## Cost functions"
      ]
    },
    {
      "cell_type": "markdown",
      "metadata": {
        "id": "b4RqXOLNWmKg"
      },
      "source": [
        "Let us denote $V_T$ as our target qumode matrix and $U$ is the parametrized matrix.\n",
        "The cost functions are\n",
        "\n",
        "\\begin{align*}\n",
        "C_{diag}\n",
        "&= \\frac{1}{L} \\: \\sum_{n = 0}^{L - 1} \\:\n",
        "| V_{n, n} - U_{n, n} |^2,\n",
        "\\\\\n",
        "C_{full}\n",
        "&= \\frac{1}{L^2} \\: \\sum_{n, m = 0}^{L - 1} \\:\n",
        "| V_{n, m} - U_{n, m} |^2,\n",
        "\\end{align*}\n",
        "where $L$ is the qumode Fock cutoff.\n",
        "\n",
        "If $U$ is a qubit-qumode circuit then\n",
        "\n",
        "\\begin{align*}\n",
        "V_{n, m}\n",
        "&= \\langle 0, n| ( I \\otimes V_T ) | 0, m \\rangle,\n",
        "\\\\\n",
        "U_{n, m}\n",
        "&= \\langle 0, n| U | 0, m \\rangle,\n",
        "\\end{align*}\n",
        "and if $U$ is a qumode circuit then\n",
        "\n",
        "\\begin{align*}\n",
        "V_{n, m}\n",
        "&= \\langle n| V_T | m \\rangle,\n",
        "\\\\\n",
        "U_{n, m}\n",
        "&= \\langle n| U | m \\rangle.\n",
        "\\end{align*}"
      ]
    },
    {
      "cell_type": "markdown",
      "metadata": {
        "id": "39Dx0UXUQkSV"
      },
      "source": [
        "### Basics"
      ]
    },
    {
      "cell_type": "code",
      "execution_count": null,
      "metadata": {
        "id": "T1jD70TpWa5R"
      },
      "outputs": [],
      "source": [
        "def tran_val_qubit_cavity(op, n, m):\n",
        "    \"\"\"\n",
        "    Compute <0, n| O |0, m>.\n",
        "\n",
        "    Arguments:\n",
        "    op -- Operator matrix\n",
        "    n -- Fock level\n",
        "    \"\"\"\n",
        "    # Check\n",
        "    L = op.shape[0] // 2\n",
        "    if n > L:\n",
        "        raise ValueError(\"n > L.\")\n",
        "    if m > L:\n",
        "        raise ValueError(\"m > L.\")\n",
        "\n",
        "    # |0, n> and |0, m>\n",
        "    state1 = qt.tensor(qt.basis(2, 0), qt.basis(L, n)).full()\n",
        "    state2 = qt.tensor(qt.basis(2, 0), qt.basis(L, m)).full()\n",
        "\n",
        "    # <0, n| O |0, m>\n",
        "    t1 = np.matmul(op, state2)\n",
        "    ov = np.dot(np.conj(state1).T, t1)\n",
        "\n",
        "    return np.squeeze(ov)"
      ]
    },
    {
      "cell_type": "code",
      "execution_count": null,
      "metadata": {
        "id": "RPqmAerWQwww"
      },
      "outputs": [],
      "source": [
        "def tran_val_only_cavity(op, n, m):\n",
        "    \"\"\"\n",
        "    Compute <n| O |m>.\n",
        "\n",
        "    Arguments:\n",
        "    op -- Operator matrix\n",
        "    n -- Fock level\n",
        "    \"\"\"\n",
        "    # Check\n",
        "    L = op.shape[0]\n",
        "    if n > L:\n",
        "        raise ValueError(\"n > L.\")\n",
        "    if m > L:\n",
        "        raise ValueError(\"m > L.\")\n",
        "\n",
        "    # |n> and |m>\n",
        "    state1 = qt.basis(L, n).full()\n",
        "    state2 = qt.basis(L, m).full()\n",
        "\n",
        "    # <n| O |m>\n",
        "    t1 = np.matmul(op, state2)\n",
        "    ov = np.dot(np.conj(state1).T, t1)\n",
        "\n",
        "    return np.squeeze(ov)"
      ]
    },
    {
      "cell_type": "markdown",
      "metadata": {
        "id": "tlLBFJzxxr7f"
      },
      "source": [
        "### ECD-rotation"
      ]
    },
    {
      "cell_type": "code",
      "execution_count": null,
      "metadata": {
        "id": "m3vwisVFxkI2"
      },
      "outputs": [],
      "source": [
        "def unpack_params_ecd_rot(X):\n",
        "    # Initialize\n",
        "    dim = X.shape[0] // 4\n",
        "\n",
        "    # Unpack\n",
        "    beta_mag = X[:dim].copy()\n",
        "    beta_arg = X[dim:2*dim].copy()\n",
        "    theta = X[2*dim:3*dim].copy()\n",
        "    phi = X[3*dim:4*dim].copy()\n",
        "\n",
        "    return beta_mag, beta_arg, theta, phi\n",
        "\n",
        "def pack_params_ecd_rot(beta_mag, beta_arg, theta, phi):\n",
        "    # Initialize\n",
        "    dim = beta_mag.shape[0]\n",
        "    X = np.zeros((4 * dim,))\n",
        "\n",
        "    # Pack\n",
        "    X[:dim] = beta_mag.copy()\n",
        "    X[dim:2*dim] = beta_arg.copy()\n",
        "    X[2*dim:3*dim] = theta.copy()\n",
        "    X[3*dim:4*dim] = phi.copy()\n",
        "\n",
        "    return X"
      ]
    },
    {
      "cell_type": "code",
      "execution_count": null,
      "metadata": {
        "id": "4fwM7rfeXDIi"
      },
      "outputs": [],
      "source": [
        "def cost_fun_ecd_rot(Xvec, V, ctype='full'):\n",
        "    \"\"\"\n",
        "    Loss function.\n",
        "\n",
        "    Arguments:\n",
        "    Xvec -- ansatz parameters\n",
        "    V -- target qubit-qumode operator\n",
        "    ctype -- type of cost fucntion\n",
        "    \"\"\"\n",
        "    # Unpack\n",
        "    bmagvec, bargvec, thetavec, phivec = unpack_params_ecd_rot(Xvec)\n",
        "\n",
        "    # ECD unitary\n",
        "    nfock = V.shape[0] // 2\n",
        "    U = ecd_rot_ansatz(bmagvec, bargvec, thetavec, phivec, nfock)\n",
        "\n",
        "    # Initialize\n",
        "    ov = 0.0\n",
        "\n",
        "    # Diagonal\n",
        "    if ctype == 'diag':\n",
        "        for j in range(nfock):\n",
        "            t0 = tran_val_qubit_cavity(V, j, j)\n",
        "            t1 = tran_val_qubit_cavity(U, j, j)\n",
        "            ov += np.abs( t0 - t1 )**2\n",
        "        return ov / nfock\n",
        "\n",
        "    # Full\n",
        "    for j in range(nfock):\n",
        "        for k in range(nfock):\n",
        "            t0 = tran_val_qubit_cavity(V, j, k)\n",
        "            t1 = tran_val_qubit_cavity(U, j, k)\n",
        "            ov += np.abs( t0 - t1 )**2\n",
        "\n",
        "    return ov / (nfock**2)"
      ]
    },
    {
      "cell_type": "markdown",
      "metadata": {
        "id": "3kMcsaOuyAq3"
      },
      "source": [
        "### SQR-displacement"
      ]
    },
    {
      "cell_type": "code",
      "execution_count": null,
      "metadata": {
        "id": "LNM34hfeyER4"
      },
      "outputs": [],
      "source": [
        "def unpack_params_sqr_disp(X, nfock):\n",
        "    # Initialize\n",
        "    ndepth = X.shape[0] // (2 * (nfock + 1))\n",
        "\n",
        "    # Unpack\n",
        "    beta_mag = X[:ndepth].copy()\n",
        "    beta_arg = X[ndepth:2*ndepth].copy()\n",
        "    d1 = 2 * ndepth\n",
        "    d2 = ndepth * nfock\n",
        "    theta = X[d1:d1+d2].reshape((ndepth, nfock))\n",
        "    phi = X[d1+d2:d1+2*d2].reshape((ndepth, nfock))\n",
        "\n",
        "    return beta_mag, beta_arg, theta, phi\n",
        "\n",
        "def pack_params_sqr_disp(beta_mag, beta_arg, theta, phi):\n",
        "    # Initialize\n",
        "    ndepth = beta_mag.shape[0]\n",
        "    nfock = theta.shape[1]\n",
        "    dim = 2 * (nfock + 1) * ndepth\n",
        "    X = np.zeros((dim,))\n",
        "\n",
        "    # Pack\n",
        "    X[:ndepth] = beta_mag.copy()\n",
        "    X[ndepth:2*ndepth] = beta_arg.copy()\n",
        "    d1 = 2 * ndepth\n",
        "    d2 = ndepth * nfock\n",
        "    X[d1:d1+d2] = theta.reshape(-1)\n",
        "    d3 = d1 + d2\n",
        "    X[d3:d3+d2] = phi.reshape(-1)\n",
        "\n",
        "    return X"
      ]
    },
    {
      "cell_type": "code",
      "execution_count": null,
      "metadata": {
        "id": "d0Hpo6DFluar"
      },
      "outputs": [],
      "source": [
        "def cost_fun_sqr_disp(Xvec, V, ctype='full'):\n",
        "    \"\"\"\n",
        "    Loss function.\n",
        "\n",
        "    Arguments:\n",
        "    Xvec -- ansatz parameters\n",
        "    V -- target qubit-qumode operator\n",
        "    ctype -- type of cost fucntion\n",
        "    \"\"\"\n",
        "    # Unpack\n",
        "    nfock = V.shape[0] // 2\n",
        "    bmagvec, bargvec, thetamat, phimat = unpack_params_sqr_disp(Xvec, nfock)\n",
        "\n",
        "    # ECD unitary\n",
        "    U = sqr_disp_ansatz(bmagvec, bargvec, thetamat, phimat, nfock)\n",
        "\n",
        "    # Diagonal\n",
        "    if ctype == 'diag':\n",
        "        ov = 0.0\n",
        "        for j in range(nfock):\n",
        "            t0 = tran_val_qubit_cavity(V, j, j)\n",
        "            t1 = tran_val_qubit_cavity(U, j, j)\n",
        "            ov += np.abs( t0 - t1 )**2\n",
        "        return ov / nfock\n",
        "\n",
        "    # Full\n",
        "    ov = 0.0\n",
        "    for j in range(nfock):\n",
        "        for k in range(nfock):\n",
        "            t0 = tran_val_qubit_cavity(V, j, k)\n",
        "            t1 = tran_val_qubit_cavity(U, j, k)\n",
        "            ov += np.abs( t0 - t1 )**2\n",
        "    ov *= ( 1 / ( nfock**2 ) )\n",
        "\n",
        "    return ov"
      ]
    },
    {
      "cell_type": "markdown",
      "metadata": {
        "id": "3_JEZ2V5yfVM"
      },
      "source": [
        "### SNAP-displacement"
      ]
    },
    {
      "cell_type": "code",
      "execution_count": null,
      "metadata": {
        "id": "2wFeWQf2yiSD"
      },
      "outputs": [],
      "source": [
        "def unpack_params_snap_disp(X, nfock):\n",
        "    # Initialize\n",
        "    ndepth = X.shape[0] // (nfock + 1)\n",
        "\n",
        "    # Unpack\n",
        "    alpha = X[:ndepth].copy()\n",
        "    d1 = ndepth * nfock\n",
        "    theta = X[ndepth:ndepth+d1].reshape((ndepth, nfock))\n",
        "\n",
        "    return alpha, theta\n",
        "\n",
        "def pack_params_snap_disp(alpha, theta):\n",
        "    # Initialize\n",
        "    ndepth = alpha.shape[0]\n",
        "    nfock = theta.shape[1]\n",
        "    dim = (nfock + 1) * ndepth\n",
        "    X = np.zeros((dim,))\n",
        "\n",
        "    # Pack\n",
        "    X[:ndepth] = alpha.copy()\n",
        "    d1 = ndepth * nfock\n",
        "    X[ndepth:ndepth+d1] = theta.reshape(-1)\n",
        "\n",
        "    return X"
      ]
    },
    {
      "cell_type": "code",
      "execution_count": null,
      "metadata": {
        "id": "1jdupITZm3_P"
      },
      "outputs": [],
      "source": [
        "def cost_fun_snap_disp(Xvec, V, ctype='full'):\n",
        "    \"\"\"\n",
        "    Loss function.\n",
        "\n",
        "    Arguments:\n",
        "    Xvec -- ansatz parameters\n",
        "    V -- target qumode operator\n",
        "    ctype -- type of cost fucntion\n",
        "    \"\"\"\n",
        "    # Unpack\n",
        "    nfock = V.shape[0]\n",
        "    alphavec, thetamat = unpack_params_snap_disp(Xvec, nfock)\n",
        "\n",
        "    # ECD unitary\n",
        "    U = snap_disp_ansatz(alphavec, thetamat, nfock)\n",
        "\n",
        "    # Initialize\n",
        "    ov = 0.0\n",
        "\n",
        "    # Diagonal\n",
        "    if ctype == 'diag':\n",
        "        for j in range(nfock):\n",
        "            t0 = tran_val_only_cavity(V, j, j)\n",
        "            t1 = tran_val_only_cavity(U, j, j)\n",
        "            ov += np.abs( t0 - t1 )**2\n",
        "        return ov / nfock\n",
        "\n",
        "    # Full\n",
        "    for j in range(nfock):\n",
        "        for k in range(nfock):\n",
        "            t0 = tran_val_only_cavity(V, j, k)\n",
        "            t1 = tran_val_only_cavity(U, j, k)\n",
        "            ov += np.abs( t0 - t1 )**2\n",
        "    ov *= ( 1 / ( nfock**2 ) )\n",
        "\n",
        "    return ov"
      ]
    },
    {
      "cell_type": "markdown",
      "metadata": {
        "id": "QSqLTofg719y"
      },
      "source": [
        "## Optimizations"
      ]
    },
    {
      "cell_type": "markdown",
      "source": [
        "### Core"
      ],
      "metadata": {
        "id": "La5RWboP0iB2"
      }
    },
    {
      "cell_type": "code",
      "execution_count": null,
      "metadata": {
        "id": "Zkhw5ps6_hWh"
      },
      "outputs": [],
      "source": [
        "def opt_scipy_ecd_rot(V, ndepth, ctype, maxiter=100, method='COBYLA', verb=0, \\\n",
        "                      threshold=1e-08, Xvec=[]):\n",
        "    \"\"\"\n",
        "    Minimize the cost function using SciPy-based methods.\n",
        "\n",
        "    Arguments:\n",
        "    V -- target qumode matrix in QuTip\n",
        "    ndepth -- ansatz circuit depth\n",
        "    ctype -- cost function type\n",
        "    maxiter -- maximum number of iterations\n",
        "    method -- optimization method\n",
        "    verb -- print additional things or not\n",
        "    threshold -- error tolerance\n",
        "    beta_mag, beta_arg, theta, phi -- optional initial guesses\n",
        "    \"\"\"\n",
        "    # Qubit-qumode matrix\n",
        "    FullV = qt.tensor(qt.qeye(2), V).full()\n",
        "\n",
        "    # Bound parameters\n",
        "    beta_mag_min = 0.0\n",
        "    beta_mag_max = 10.0\n",
        "    beta_arg_min = 0.0\n",
        "    beta_arg_max = 2 * np.pi\n",
        "    theta_min = 0.0\n",
        "    theta_max = np.pi\n",
        "    phi_min = 0.0\n",
        "    phi_max = 2 * np.pi\n",
        "\n",
        "    # Define bounds\n",
        "    bounds = []\n",
        "    for _ in range(ndepth):\n",
        "        bounds.append([beta_mag_min, beta_mag_max])\n",
        "    for _ in range(ndepth):\n",
        "        bounds.append([beta_arg_min, beta_arg_max])\n",
        "    for _ in range(ndepth):\n",
        "        bounds.append([theta_min, theta_max])\n",
        "    for _ in range(ndepth):\n",
        "        bounds.append([phi_min, phi_max])\n",
        "    bounds = np.array(bounds)\n",
        "\n",
        "    # Guess\n",
        "    if len(Xvec) == 0:\n",
        "        beta_mag = np.random.uniform(0, 3, size=ndepth)\n",
        "        beta_arg = np.random.uniform(0, np.pi, size=ndepth)\n",
        "        theta = np.random.uniform(0, np.pi, size=ndepth)\n",
        "        phi = np.random.uniform(0, np.pi, size=ndepth)\n",
        "        Xvec = pack_params_ecd_rot(beta_mag, beta_arg, theta, phi)\n",
        "\n",
        "    # Loss function\n",
        "    obj_fun = partial(cost_fun_ecd_rot, V=FullV, ctype=ctype)\n",
        "\n",
        "    # Intermediate values\n",
        "    iteration_step = 0\n",
        "    print_freq = 10\n",
        "    def callback(xk):\n",
        "        nonlocal iteration_step\n",
        "        iteration_step += 1\n",
        "        if verb == 1 and (iteration_step % print_freq == 0):\n",
        "            print(\"-------------------\")\n",
        "            print(f\"iter: {iteration_step}\")\n",
        "            print(f\"fval: {obj_fun(xk)}\")\n",
        "\n",
        "    # SciPy options\n",
        "    options = {'disp': True, 'maxiter': maxiter}\n",
        "\n",
        "    # Optimize\n",
        "    if method == 'COBYLA':\n",
        "        result = sciopt.minimize(obj_fun, Xvec, method=method, bounds=bounds, \\\n",
        "                                 tol=threshold, options=options, callback=callback)\n",
        "    elif method == 'Powell':\n",
        "        result = sciopt.minimize(obj_fun, Xvec, method=method, bounds=bounds, \\\n",
        "                                 tol=threshold, options=options, callback=callback)\n",
        "    elif method == 'CG':\n",
        "        result = sciopt.minimize(obj_fun, Xvec, method=method, \\\n",
        "                                 tol=threshold, options=options, callback=callback)\n",
        "    elif method == 'BFGS':\n",
        "        result = sciopt.minimize(obj_fun, Xvec, method=method, \\\n",
        "                                 tol=threshold, options=options, callback=callback)\n",
        "    elif method == 'L-BFGS-B':\n",
        "        result = sciopt.minimize(obj_fun, Xvec, method=method, bounds=bounds, \\\n",
        "                                 tol=threshold, options=options, callback=callback)\n",
        "    elif method == 'TNC':\n",
        "        result = sciopt.minimize(obj_fun, Xvec, method=method, \\\n",
        "                                 bounds=bounds, tol=threshold, callback=callback)\n",
        "    elif method == 'trust-constr':\n",
        "        result = sciopt.minimize(obj_fun, Xvec, method=method, bounds=bounds, \\\n",
        "                                 tol=threshold, options=options, callback=callback)\n",
        "    else:\n",
        "        result = sciopt.minimize(obj_fun, Xvec, method='COBYLA', bounds=bounds, \\\n",
        "                                 tol=threshold, options=options, callback=callback)\n",
        "\n",
        "    return result.fun, result.x"
      ]
    },
    {
      "cell_type": "code",
      "execution_count": null,
      "metadata": {
        "id": "d5Q36u5ZTp9y"
      },
      "outputs": [],
      "source": [
        "def opt_scipy_sqr_disp(V, ndepth, ctype, maxiter=100, method='COBYLA', verb=0, \\\n",
        "                       threshold=1e-08, Xvec=[]):\n",
        "    \"\"\"\n",
        "    Minimize the cost function using SciPy-based methods.\n",
        "\n",
        "    Arguments:\n",
        "    V -- target qumode matrix in QuTip\n",
        "    ndepth -- ansatz circuit depth\n",
        "    ctype -- cost function type\n",
        "    maxiter -- maximum number of iterations\n",
        "    method -- optimization method\n",
        "    verb -- print additional things or not\n",
        "    threshold -- error tolerance\n",
        "    beta_mag, beta_arg, theta, phi -- optional initial guesses\n",
        "    \"\"\"\n",
        "    \"\"\"\n",
        "    Minimize the cost function using Scikit-based methods.\n",
        "\n",
        "    Arguments:\n",
        "    V -- target qumode matrix in QuTip\n",
        "    ndepth -- ansatz circuit depth\n",
        "    ctype -- cost function type\n",
        "    budget -- maximum number of iterations\n",
        "    method -- optimization method\n",
        "    Xvec -- optional initial guess\n",
        "    \"\"\"\n",
        "    # Qubit-qumode matrix\n",
        "    FullV = qt.tensor(qt.qeye(2), V).full()\n",
        "    nfock = FullV.shape[0] // 2\n",
        "\n",
        "    # Bound parameters\n",
        "    beta_mag_min = 0.0\n",
        "    beta_mag_max = 10.0\n",
        "    beta_arg_min = 0.0\n",
        "    beta_arg_max = 2 * np.pi\n",
        "    theta_min = 0.0\n",
        "    theta_max = np.pi\n",
        "    phi_min = 0.0\n",
        "    phi_max = 2 * np.pi\n",
        "\n",
        "    # Define bounds\n",
        "    bounds = []\n",
        "    for _ in range(ndepth):\n",
        "        bounds.append([beta_mag_min, beta_mag_max])\n",
        "    for _ in range(ndepth):\n",
        "        bounds.append([beta_arg_min, beta_arg_max])\n",
        "    for _ in range(ndepth * nfock):\n",
        "        bounds.append([theta_min, theta_max])\n",
        "    for _ in range(ndepth * nfock):\n",
        "        bounds.append([phi_min, phi_max])\n",
        "    bounds = np.array(bounds)\n",
        "\n",
        "    # Guess\n",
        "    if len(Xvec) == 0:\n",
        "        beta_mag = np.random.uniform(0, 3, size=ndepth)\n",
        "        beta_arg = np.random.uniform(0, np.pi, size=ndepth)\n",
        "        theta = np.random.uniform(0, np.pi, size=(ndepth, nfock))\n",
        "        phi = np.random.uniform(0, np.pi, size=(ndepth, nfock))\n",
        "        Xvec = pack_params_sqr_disp(beta_mag, beta_arg, theta, phi)\n",
        "\n",
        "    # Loss function\n",
        "    obj_fun = partial(cost_fun_sqr_disp, V=FullV, ctype=ctype)\n",
        "\n",
        "    # Intermediate values\n",
        "    iteration_step = 0\n",
        "    print_freq = 10\n",
        "    def callback(xk):\n",
        "        nonlocal iteration_step\n",
        "        iteration_step += 1\n",
        "        if verb == 1 and (iteration_step % print_freq == 0):\n",
        "            print(\"-------------------\")\n",
        "            print(f\"iter: {iteration_step}\")\n",
        "            print(f\"fval: {obj_fun(xk)}\")\n",
        "\n",
        "    # SciPy options\n",
        "    options = {'disp': True, 'maxiter': maxiter}\n",
        "\n",
        "    # Optimize\n",
        "    if method == 'COBYLA':\n",
        "        result = sciopt.minimize(obj_fun, Xvec, method=method, bounds=bounds, \\\n",
        "                                 tol=threshold, options=options, callback=callback)\n",
        "    elif method == 'Powell':\n",
        "        result = sciopt.minimize(obj_fun, Xvec, method=method, bounds=bounds, \\\n",
        "                                 tol=threshold, options=options, callback=callback)\n",
        "    elif method == 'CG':\n",
        "        result = sciopt.minimize(obj_fun, Xvec, method=method, \\\n",
        "                                 tol=threshold, options=options, callback=callback)\n",
        "    elif method == 'BFGS':\n",
        "        result = sciopt.minimize(obj_fun, Xvec, method=method, \\\n",
        "                                 tol=threshold, options=options, callback=callback)\n",
        "    elif method == 'L-BFGS-B':\n",
        "        result = sciopt.minimize(obj_fun, Xvec, method=method, bounds=bounds, \\\n",
        "                                 tol=threshold, options=options, callback=callback)\n",
        "    elif method == 'TNC':\n",
        "        result = sciopt.minimize(obj_fun, Xvec, method=method, \\\n",
        "                                 bounds=bounds, tol=threshold, callback=callback)\n",
        "    elif method == 'trust-constr':\n",
        "        result = sciopt.minimize(obj_fun, Xvec, method=method, bounds=bounds, \\\n",
        "                                 tol=threshold, options=options, callback=callback)\n",
        "    else:\n",
        "        result = sciopt.minimize(obj_fun, Xvec, method='COBYLA', bounds=bounds, \\\n",
        "                                 tol=threshold, options=options, callback=callback)\n",
        "\n",
        "    return result.fun, result.x"
      ]
    },
    {
      "cell_type": "code",
      "execution_count": null,
      "metadata": {
        "id": "5-zOXS6RUwIK"
      },
      "outputs": [],
      "source": [
        "def opt_scipy_snap_disp(V, ndepth, ctype, maxiter=100, method='COBYLA', verb=0, \\\n",
        "                        threshold=1e-08, Xvec=[]):\n",
        "    \"\"\"\n",
        "    Minimize the cost function using SciPy-based methods.\n",
        "\n",
        "    Arguments:\n",
        "    V -- target qumode matrix in QuTip\n",
        "    ndepth -- ansatz circuit depth\n",
        "    ctype -- cost function type\n",
        "    maxiter -- maximum number of iterations\n",
        "    method -- optimization method\n",
        "    verb -- print additional things or not\n",
        "    threshold -- error tolerance\n",
        "    beta_mag, beta_arg, theta, phi -- optional initial guesses\n",
        "    \"\"\"\n",
        "    # Qumode matrix\n",
        "    FullV = V.full()\n",
        "    nfock = FullV.shape[0]\n",
        "\n",
        "    # Bound parameters\n",
        "    alpha_min = 0.0\n",
        "    alpha_max = 10.0\n",
        "    theta_min = 0.0\n",
        "    theta_max = np.pi\n",
        "\n",
        "    # Define bounds\n",
        "    bounds = []\n",
        "    for _ in range(ndepth):\n",
        "        bounds.append([alpha_min, alpha_max])\n",
        "    for _ in range(ndepth * nfock):\n",
        "        bounds.append([theta_min, theta_max])\n",
        "    bounds = np.array(bounds)\n",
        "\n",
        "    # Guess\n",
        "    if len(Xvec) == 0:\n",
        "        alpha = np.random.uniform(0, 3, size=ndepth)\n",
        "        theta = np.random.uniform(0, np.pi, size=(ndepth, nfock))\n",
        "        Xvec = pack_params_snap_disp(alpha, theta)\n",
        "\n",
        "    # Loss function\n",
        "    obj_fun = partial(cost_fun_snap_disp, V=FullV, ctype=ctype)\n",
        "\n",
        "    # Intermediate values\n",
        "    iteration_step = 0\n",
        "    print_freq = 10\n",
        "    def callback(xk):\n",
        "        nonlocal iteration_step\n",
        "        iteration_step += 1\n",
        "        if verb == 1 and (iteration_step % print_freq == 0):\n",
        "            print(\"-------------------\")\n",
        "            print(f\"iter: {iteration_step}\")\n",
        "            print(f\"fval: {obj_fun(xk)}\")\n",
        "\n",
        "    # SciPy options\n",
        "    options = {'disp': True, 'maxiter': maxiter}\n",
        "\n",
        "    # Optimize\n",
        "    if method == 'COBYLA':\n",
        "        result = sciopt.minimize(obj_fun, Xvec, method=method, bounds=bounds, \\\n",
        "                                 tol=threshold, options=options, callback=callback)\n",
        "    elif method == 'Powell':\n",
        "        result = sciopt.minimize(obj_fun, Xvec, method=method, bounds=bounds, \\\n",
        "                                 tol=threshold, options=options, callback=callback)\n",
        "    elif method == 'CG':\n",
        "        result = sciopt.minimize(obj_fun, Xvec, method=method, \\\n",
        "                                 tol=threshold, options=options, callback=callback)\n",
        "    elif method == 'BFGS':\n",
        "        result = sciopt.minimize(obj_fun, Xvec, method=method, \\\n",
        "                                 tol=threshold, options=options, callback=callback)\n",
        "    elif method == 'L-BFGS-B':\n",
        "        result = sciopt.minimize(obj_fun, Xvec, method=method, bounds=bounds, \\\n",
        "                                 tol=threshold, options=options, callback=callback)\n",
        "    elif method == 'TNC':\n",
        "        result = sciopt.minimize(obj_fun, Xvec, method=method, \\\n",
        "                                 bounds=bounds, tol=threshold, callback=callback)\n",
        "    elif method == 'trust-constr':\n",
        "        result = sciopt.minimize(obj_fun, Xvec, method=method, bounds=bounds, \\\n",
        "                                 tol=threshold, options=options, callback=callback)\n",
        "    else:\n",
        "        result = sciopt.minimize(obj_fun, Xvec, method='COBYLA', bounds=bounds, \\\n",
        "                                 tol=threshold, options=options, callback=callback)\n",
        "\n",
        "    return result.fun, result.x"
      ]
    },
    {
      "cell_type": "markdown",
      "metadata": {
        "id": "sf50tuHBTNfb"
      },
      "source": [
        "### Wrapper"
      ]
    },
    {
      "cell_type": "code",
      "execution_count": null,
      "metadata": {
        "id": "21tQjptZ_98X"
      },
      "outputs": [],
      "source": [
        "def qumode_opt_regular(V, ndepth, ctype, atype='ecd-rot', budget=100, method='COBYLA', \\\n",
        "                    verb=0, threshold=1e-08, Xvec=[]):\n",
        "    \"\"\"\n",
        "    Minimize the cost function using various optimizers.\n",
        "\n",
        "    Arguments:\n",
        "    V -- target qumode matrix in QuTip\n",
        "    ctype -- type of cost function\n",
        "    atype -- type of ansatz\n",
        "    ndepth -- ansatz circuit depth\n",
        "    budget -- maximum number of iterations\n",
        "    method -- optimization method\n",
        "    threshold -- error tolerance\n",
        "    Xvec -- optional initial guess\n",
        "    \"\"\"\n",
        "    # Method library\n",
        "    sc_tuple = ('COBYLA', 'Powell', 'CG', 'BFGS', 'L-BFGS-B', 'TNC', 'trust-constr')\n",
        "\n",
        "    # Optimize\n",
        "    if atype == 'sqr-disp':\n",
        "        if method in sc_tuple:\n",
        "            loss, Xvec = opt_scipy_sqr_disp(V, ndepth, ctype=ctype, maxiter=budget, \\\n",
        "                                            method=method, verb=verb, \\\n",
        "                                            threshold=threshold, Xvec=Xvec)\n",
        "        else:\n",
        "            print(f\"Error: method not found\")\n",
        "            sys.exit(1)\n",
        "    elif atype == 'snap-disp':\n",
        "        if method in sc_tuple:\n",
        "            loss, Xvec = opt_scipy_snap_disp(V, ndepth, ctype=ctype, maxiter=budget, \\\n",
        "                                             method=method, verb=verb, \\\n",
        "                                             threshold=threshold, Xvec=Xvec)\n",
        "        else:\n",
        "            print(f\"Error: method not found\")\n",
        "            sys.exit(1)\n",
        "    else:\n",
        "        if method in sc_tuple:\n",
        "            loss, Xvec = opt_scipy_ecd_rot(V, ndepth, ctype=ctype, maxiter=budget, \\\n",
        "                                           method=method, verb=verb, \\\n",
        "                                           threshold=threshold, Xvec=Xvec)\n",
        "        else:\n",
        "            print(f\"Error: method not found\")\n",
        "            sys.exit(1)\n",
        "\n",
        "    return loss, Xvec"
      ]
    },
    {
      "cell_type": "markdown",
      "metadata": {
        "id": "CS760PksWxOr"
      },
      "source": [
        "## Explore"
      ]
    },
    {
      "cell_type": "code",
      "execution_count": null,
      "metadata": {
        "id": "HdGKwmb7WyDj"
      },
      "outputs": [],
      "source": [
        "def test_opt_uni(ndepth, atype):\n",
        "    # Target\n",
        "    V = qt.tensor( qt.sigmax(), qt.sigmax() )\n",
        "\n",
        "    # Optimize\n",
        "    loss, Xvec = qumode_opt_regular(V, ndepth, ctype='full', atype=atype, budget=int(1e3), \\\n",
        "                                    method='BFGS', verb=0, threshold=1e-12)\n",
        "\n",
        "    return loss, Xvec"
      ]
    },
    {
      "cell_type": "code",
      "execution_count": null,
      "metadata": {
        "id": "WH2C7Qjr4BAP",
        "colab": {
          "base_uri": "https://localhost:8080/"
        },
        "outputId": "608ccced-92fd-4386-93ff-eaa6c687e951"
      },
      "outputs": [
        {
          "output_type": "stream",
          "name": "stdout",
          "text": [
            "         Current function value: 0.000000\n",
            "         Iterations: 69\n",
            "         Function evaluations: 1755\n",
            "         Gradient evaluations: 83\n"
          ]
        },
        {
          "output_type": "stream",
          "name": "stderr",
          "text": [
            "/usr/local/lib/python3.10/dist-packages/scipy/optimize/_minimize.py:708: OptimizeWarning: Desired error not necessarily achieved due to precision loss.\n",
            "  res = _minimize_bfgs(fun, x0, args, jac, callback, **options)\n"
          ]
        },
        {
          "output_type": "execute_result",
          "data": {
            "text/plain": [
              "1.2142604017143368e-15"
            ]
          },
          "metadata": {},
          "execution_count": 42
        }
      ],
      "source": [
        "ndepth = 4\n",
        "atype = 'snap-disp' #'ecd-rot' #'sqr-disp'\n",
        "\n",
        "loss, Xvec = test_opt_uni(ndepth, atype)\n",
        "loss"
      ]
    },
    {
      "cell_type": "code",
      "source": [
        "Xvec"
      ],
      "metadata": {
        "colab": {
          "base_uri": "https://localhost:8080/"
        },
        "id": "usWhbTOLKi1b",
        "outputId": "9a3efa3e-a5f7-4315-8d9f-852c70d22aa7"
      },
      "execution_count": null,
      "outputs": [
        {
          "output_type": "execute_result",
          "data": {
            "text/plain": [
              "array([ 0.37507811,  0.81930651, -0.43233014,  1.83754   ,  1.91623824,\n",
              "       -0.7048632 ,  0.72849578,  4.46112249,  0.42063343,  1.8420259 ,\n",
              "        0.40545624,  0.44978138,  2.79057841,  0.73265233,  1.02650041,\n",
              "        3.26380346,  1.4488983 ,  3.06704709,  2.39389044,  0.89048048])"
            ]
          },
          "metadata": {},
          "execution_count": 43
        }
      ]
    }
  ],
  "metadata": {
    "colab": {
      "collapsed_sections": [
        "J0tBc-IKGzVS",
        "aK_grAZPaKwk",
        "QSqLTofg719y"
      ],
      "machine_shape": "hm",
      "provenance": [],
      "toc_visible": true
    },
    "kernelspec": {
      "display_name": "Python 3",
      "name": "python3"
    },
    "language_info": {
      "name": "python"
    }
  },
  "nbformat": 4,
  "nbformat_minor": 0
}