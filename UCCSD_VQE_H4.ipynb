{
  "nbformat": 4,
  "nbformat_minor": 0,
  "metadata": {
    "colab": {
      "provenance": []
    },
    "kernelspec": {
      "name": "python3",
      "display_name": "Python 3"
    },
    "language_info": {
      "name": "python"
    }
  },
  "cells": [
    {
      "cell_type": "code",
      "execution_count": 1,
      "metadata": {
        "cellView": "form",
        "id": "YojQmP06rgfl"
      },
      "outputs": [],
      "source": [
        "#@title Install, Import Libraries\n",
        "%%capture\n",
        "!pip install qiskit==1.0.1\n",
        "!pip install qiskit_algorithms==0.3.0\n",
        "!pip install qiskit_nature==0.7.2\n",
        "!pip install --prefer-binary pyscf\n",
        "!pip install openfermion\n",
        "!pip install openfermionpyscf\n",
        "\n",
        "import numpy as np\n",
        "from qiskit import *\n",
        "from pyscf import *\n",
        "from qiskit_nature.units import DistanceUnit\n",
        "from qiskit_nature.second_q.drivers import PySCFDriver\n",
        "from qiskit_nature.second_q.mappers import JordanWignerMapper\n",
        "from qiskit_nature.second_q.algorithms import GroundStateEigensolver\n",
        "from qiskit_nature.second_q.circuit.library import HartreeFock, UCCSD\n",
        "from qiskit_algorithms import VQE\n",
        "from qiskit_algorithms.optimizers import L_BFGS_B\n",
        "from qiskit.primitives import Estimator\n",
        "import matplotlib.pyplot as plt\n",
        "from openfermion.chem import MolecularData\n",
        "from openfermion.transforms import get_fermion_operator, jordan_wigner, bravyi_kitaev\n",
        "from openfermion.ops import FermionOperator, QubitOperator\n",
        "from openfermion.ops.representations import get_tensors_from_integrals\n",
        "from openfermionpyscf import run_pyscf"
      ]
    },
    {
      "cell_type": "code",
      "source": [
        "def esProblem_H4(R = 0.7):\n",
        "    ''' Returns the electronic structure problem of H4 each separated by R'''\n",
        "    driver = PySCFDriver(\n",
        "        atom = f\"H 0 0 0; H 0 0 {R}; H 0 0 {2*R}; H 0 0 {3*R}\",\n",
        "        basis = \"sto3g\",\n",
        "        charge = 0,\n",
        "        spin = 0,\n",
        "        unit = DistanceUnit.ANGSTROM,\n",
        "    )\n",
        "    es_problem = driver.run()\n",
        "    return es_problem\n",
        "\n",
        "def fci_h4(R):\n",
        "    ''' Returns the FCI ground state energy (electronic + nuclear repulsion)\n",
        "    based on the distance between H4 chain'''\n",
        "    # Define parameters\n",
        "    basis = \"sto-3g\"\n",
        "    multiplicity = 1\n",
        "    charge = 0\n",
        "    # XYZ coordinates\n",
        "    geometry = [(\"H\", (0, 0, 0)), \\\n",
        "                (\"H\", (0, 0, R)), \\\n",
        "                (\"H\", (0, 0, 2*R)), \\\n",
        "                (\"H\", (0, 0, 3*R))]\n",
        "    # Define molecule\n",
        "    molecule = MolecularData(geometry, basis, multiplicity, charge)\n",
        "    # Run HF calculation\n",
        "    molecule = run_pyscf(molecule, run_fci = 1)\n",
        "    return molecule.hf_energy, molecule.fci_energy"
      ],
      "metadata": {
        "id": "4RpA1oskrweN"
      },
      "execution_count": 2,
      "outputs": []
    },
    {
      "cell_type": "code",
      "source": [
        "def qiskit_uccsd(es_problem):\n",
        "    '''Returns the ground state energy (electronic + nuclear repulsion) from\n",
        "    a Qiskit qubit-based UCCSD ansatz, based on the electronic structure problem'''\n",
        "    # Use the Jordan-Wigner mapping\n",
        "    mapper = JordanWignerMapper()\n",
        "    # Initialize VQE solver: Hartree-Fock initial state, UCCSD variational form\n",
        "    ansatz = UCCSD(\n",
        "        es_problem.num_spatial_orbitals,\n",
        "        es_problem.num_particles,\n",
        "        mapper,\n",
        "        initial_state = HartreeFock(\n",
        "            es_problem.num_spatial_orbitals,\n",
        "            es_problem.num_particles,\n",
        "            mapper,\n",
        "        ),\n",
        "    )\n",
        "    vqe_solver = VQE(Estimator(), ansatz, L_BFGS_B())\n",
        "    vqe_solver.initial_point = [0.0] * ansatz.num_parameters\n",
        "    calc = GroundStateEigensolver(mapper, vqe_solver)\n",
        "    res = calc.solve(es_problem)\n",
        "    return res.total_energies[0]"
      ],
      "metadata": {
        "id": "5pl5pGPlrqZr"
      },
      "execution_count": 3,
      "outputs": []
    },
    {
      "cell_type": "code",
      "source": [
        "R_H4 = np.linspace(0.5, 2.5, num = 21)\n",
        "fci_energies_H4 = []\n",
        "qiskit_uccsd_energies_H4 = []\n",
        "for r in R_H4:\n",
        "    mol = esProblem_H4(r)\n",
        "    qiskit_uccsd_energy = qiskit_uccsd(mol)\n",
        "    print(f\"R={r}, Energy={qiskit_uccsd_energy}\")\n",
        "    qiskit_uccsd_energies_H4.append(qiskit_uccsd_energy)\n",
        "    fci_energies_H4.append(fci_h4(r)[1])"
      ],
      "metadata": {
        "id": "3nxr_eUMsLNL"
      },
      "execution_count": null,
      "outputs": []
    },
    {
      "cell_type": "code",
      "source": [
        "print(np.average(np.array(qiskit_uccsd_energies_H4) - np.array(fci_energies_H4)))"
      ],
      "metadata": {
        "id": "_id7zeYLsLr3"
      },
      "execution_count": null,
      "outputs": []
    }
  ]
}